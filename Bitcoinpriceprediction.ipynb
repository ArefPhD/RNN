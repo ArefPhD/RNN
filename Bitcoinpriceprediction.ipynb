{
  "nbformat": 4,
  "nbformat_minor": 0,
  "metadata": {
    "colab": {
      "name": "Google Stock Price Prediction RNN",
      "provenance": [],
      "collapsed_sections": []
    },
    "kernelspec": {
      "name": "python3",
      "display_name": "Python 3"
    },
    "accelerator": "GPU"
  },
  "cells": [
    {
      "metadata": {
        "id": "kRO9n1MJVlHv"
      },
      "cell_type": "markdown",
      "source": [
        "LSTM that predicts upwards and downwards trend of google stockprice \n",
        "Many layers with dropout regularisation to prevent overfitting"
      ]
    },
    {
      "metadata": {
        "id": "UCsb2gWesFOS"
      },
      "cell_type": "markdown",
      "source": [
        "\n",
        "\n",
        "# ***Part 1 - Data Preprocessing***"
      ]
    },
    {
      "metadata": {
        "id": "UTEkX8bcqioW"
      },
      "cell_type": "code",
      "source": [
        "# Importing the libraries\n",
        "import numpy as np #allow to make arrays\n",
        "import matplotlib.pyplot as plt #visualize results on charts \n",
        "import pandas as pd #import dataset and manage easily"
      ],
      "execution_count": 1,
      "outputs": []
    },
    {
      "cell_type": "code",
      "source": [
        "from google.colab import files\n",
        "\n",
        "uploaded = files.upload()"
      ],
      "metadata": {
        "colab": {
          "resources": {
            "http://localhost:8080/nbextensions/google.colab/files.js": {
              "data": "Ly8gQ29weXJpZ2h0IDIwMTcgR29vZ2xlIExMQwovLwovLyBMaWNlbnNlZCB1bmRlciB0aGUgQXBhY2hlIExpY2Vuc2UsIFZlcnNpb24gMi4wICh0aGUgIkxpY2Vuc2UiKTsKLy8geW91IG1heSBub3QgdXNlIHRoaXMgZmlsZSBleGNlcHQgaW4gY29tcGxpYW5jZSB3aXRoIHRoZSBMaWNlbnNlLgovLyBZb3UgbWF5IG9idGFpbiBhIGNvcHkgb2YgdGhlIExpY2Vuc2UgYXQKLy8KLy8gICAgICBodHRwOi8vd3d3LmFwYWNoZS5vcmcvbGljZW5zZXMvTElDRU5TRS0yLjAKLy8KLy8gVW5sZXNzIHJlcXVpcmVkIGJ5IGFwcGxpY2FibGUgbGF3IG9yIGFncmVlZCB0byBpbiB3cml0aW5nLCBzb2Z0d2FyZQovLyBkaXN0cmlidXRlZCB1bmRlciB0aGUgTGljZW5zZSBpcyBkaXN0cmlidXRlZCBvbiBhbiAiQVMgSVMiIEJBU0lTLAovLyBXSVRIT1VUIFdBUlJBTlRJRVMgT1IgQ09ORElUSU9OUyBPRiBBTlkgS0lORCwgZWl0aGVyIGV4cHJlc3Mgb3IgaW1wbGllZC4KLy8gU2VlIHRoZSBMaWNlbnNlIGZvciB0aGUgc3BlY2lmaWMgbGFuZ3VhZ2UgZ292ZXJuaW5nIHBlcm1pc3Npb25zIGFuZAovLyBsaW1pdGF0aW9ucyB1bmRlciB0aGUgTGljZW5zZS4KCi8qKgogKiBAZmlsZW92ZXJ2aWV3IEhlbHBlcnMgZm9yIGdvb2dsZS5jb2xhYiBQeXRob24gbW9kdWxlLgogKi8KKGZ1bmN0aW9uKHNjb3BlKSB7CmZ1bmN0aW9uIHNwYW4odGV4dCwgc3R5bGVBdHRyaWJ1dGVzID0ge30pIHsKICBjb25zdCBlbGVtZW50ID0gZG9jdW1lbnQuY3JlYXRlRWxlbWVudCgnc3BhbicpOwogIGVsZW1lbnQudGV4dENvbnRlbnQgPSB0ZXh0OwogIGZvciAoY29uc3Qga2V5IG9mIE9iamVjdC5rZXlzKHN0eWxlQXR0cmlidXRlcykpIHsKICAgIGVsZW1lbnQuc3R5bGVba2V5XSA9IHN0eWxlQXR0cmlidXRlc1trZXldOwogIH0KICByZXR1cm4gZWxlbWVudDsKfQoKLy8gTWF4IG51bWJlciBvZiBieXRlcyB3aGljaCB3aWxsIGJlIHVwbG9hZGVkIGF0IGEgdGltZS4KY29uc3QgTUFYX1BBWUxPQURfU0laRSA9IDEwMCAqIDEwMjQ7CgpmdW5jdGlvbiBfdXBsb2FkRmlsZXMoaW5wdXRJZCwgb3V0cHV0SWQpIHsKICBjb25zdCBzdGVwcyA9IHVwbG9hZEZpbGVzU3RlcChpbnB1dElkLCBvdXRwdXRJZCk7CiAgY29uc3Qgb3V0cHV0RWxlbWVudCA9IGRvY3VtZW50LmdldEVsZW1lbnRCeUlkKG91dHB1dElkKTsKICAvLyBDYWNoZSBzdGVwcyBvbiB0aGUgb3V0cHV0RWxlbWVudCB0byBtYWtlIGl0IGF2YWlsYWJsZSBmb3IgdGhlIG5leHQgY2FsbAogIC8vIHRvIHVwbG9hZEZpbGVzQ29udGludWUgZnJvbSBQeXRob24uCiAgb3V0cHV0RWxlbWVudC5zdGVwcyA9IHN0ZXBzOwoKICByZXR1cm4gX3VwbG9hZEZpbGVzQ29udGludWUob3V0cHV0SWQpOwp9CgovLyBUaGlzIGlzIHJvdWdobHkgYW4gYXN5bmMgZ2VuZXJhdG9yIChub3Qgc3VwcG9ydGVkIGluIHRoZSBicm93c2VyIHlldCksCi8vIHdoZXJlIHRoZXJlIGFyZSBtdWx0aXBsZSBhc3luY2hyb25vdXMgc3RlcHMgYW5kIHRoZSBQeXRob24gc2lkZSBpcyBnb2luZwovLyB0byBwb2xsIGZvciBjb21wbGV0aW9uIG9mIGVhY2ggc3RlcC4KLy8gVGhpcyB1c2VzIGEgUHJvbWlzZSB0byBibG9jayB0aGUgcHl0aG9uIHNpZGUgb24gY29tcGxldGlvbiBvZiBlYWNoIHN0ZXAsCi8vIHRoZW4gcGFzc2VzIHRoZSByZXN1bHQgb2YgdGhlIHByZXZpb3VzIHN0ZXAgYXMgdGhlIGlucHV0IHRvIHRoZSBuZXh0IHN0ZXAuCmZ1bmN0aW9uIF91cGxvYWRGaWxlc0NvbnRpbnVlKG91dHB1dElkKSB7CiAgY29uc3Qgb3V0cHV0RWxlbWVudCA9IGRvY3VtZW50LmdldEVsZW1lbnRCeUlkKG91dHB1dElkKTsKICBjb25zdCBzdGVwcyA9IG91dHB1dEVsZW1lbnQuc3RlcHM7CgogIGNvbnN0IG5leHQgPSBzdGVwcy5uZXh0KG91dHB1dEVsZW1lbnQubGFzdFByb21pc2VWYWx1ZSk7CiAgcmV0dXJuIFByb21pc2UucmVzb2x2ZShuZXh0LnZhbHVlLnByb21pc2UpLnRoZW4oKHZhbHVlKSA9PiB7CiAgICAvLyBDYWNoZSB0aGUgbGFzdCBwcm9taXNlIHZhbHVlIHRvIG1ha2UgaXQgYXZhaWxhYmxlIHRvIHRoZSBuZXh0CiAgICAvLyBzdGVwIG9mIHRoZSBnZW5lcmF0b3IuCiAgICBvdXRwdXRFbGVtZW50Lmxhc3RQcm9taXNlVmFsdWUgPSB2YWx1ZTsKICAgIHJldHVybiBuZXh0LnZhbHVlLnJlc3BvbnNlOwogIH0pOwp9CgovKioKICogR2VuZXJhdG9yIGZ1bmN0aW9uIHdoaWNoIGlzIGNhbGxlZCBiZXR3ZWVuIGVhY2ggYXN5bmMgc3RlcCBvZiB0aGUgdXBsb2FkCiAqIHByb2Nlc3MuCiAqIEBwYXJhbSB7c3RyaW5nfSBpbnB1dElkIEVsZW1lbnQgSUQgb2YgdGhlIGlucHV0IGZpbGUgcGlja2VyIGVsZW1lbnQuCiAqIEBwYXJhbSB7c3RyaW5nfSBvdXRwdXRJZCBFbGVtZW50IElEIG9mIHRoZSBvdXRwdXQgZGlzcGxheS4KICogQHJldHVybiB7IUl0ZXJhYmxlPCFPYmplY3Q+fSBJdGVyYWJsZSBvZiBuZXh0IHN0ZXBzLgogKi8KZnVuY3Rpb24qIHVwbG9hZEZpbGVzU3RlcChpbnB1dElkLCBvdXRwdXRJZCkgewogIGNvbnN0IGlucHV0RWxlbWVudCA9IGRvY3VtZW50LmdldEVsZW1lbnRCeUlkKGlucHV0SWQpOwogIGlucHV0RWxlbWVudC5kaXNhYmxlZCA9IGZhbHNlOwoKICBjb25zdCBvdXRwdXRFbGVtZW50ID0gZG9jdW1lbnQuZ2V0RWxlbWVudEJ5SWQob3V0cHV0SWQpOwogIG91dHB1dEVsZW1lbnQuaW5uZXJIVE1MID0gJyc7CgogIGNvbnN0IHBpY2tlZFByb21pc2UgPSBuZXcgUHJvbWlzZSgocmVzb2x2ZSkgPT4gewogICAgaW5wdXRFbGVtZW50LmFkZEV2ZW50TGlzdGVuZXIoJ2NoYW5nZScsIChlKSA9PiB7CiAgICAgIHJlc29sdmUoZS50YXJnZXQuZmlsZXMpOwogICAgfSk7CiAgfSk7CgogIGNvbnN0IGNhbmNlbCA9IGRvY3VtZW50LmNyZWF0ZUVsZW1lbnQoJ2J1dHRvbicpOwogIGlucHV0RWxlbWVudC5wYXJlbnRFbGVtZW50LmFwcGVuZENoaWxkKGNhbmNlbCk7CiAgY2FuY2VsLnRleHRDb250ZW50ID0gJ0NhbmNlbCB1cGxvYWQnOwogIGNvbnN0IGNhbmNlbFByb21pc2UgPSBuZXcgUHJvbWlzZSgocmVzb2x2ZSkgPT4gewogICAgY2FuY2VsLm9uY2xpY2sgPSAoKSA9PiB7CiAgICAgIHJlc29sdmUobnVsbCk7CiAgICB9OwogIH0pOwoKICAvLyBXYWl0IGZvciB0aGUgdXNlciB0byBwaWNrIHRoZSBmaWxlcy4KICBjb25zdCBmaWxlcyA9IHlpZWxkIHsKICAgIHByb21pc2U6IFByb21pc2UucmFjZShbcGlja2VkUHJvbWlzZSwgY2FuY2VsUHJvbWlzZV0pLAogICAgcmVzcG9uc2U6IHsKICAgICAgYWN0aW9uOiAnc3RhcnRpbmcnLAogICAgfQogIH07CgogIGNhbmNlbC5yZW1vdmUoKTsKCiAgLy8gRGlzYWJsZSB0aGUgaW5wdXQgZWxlbWVudCBzaW5jZSBmdXJ0aGVyIHBpY2tzIGFyZSBub3QgYWxsb3dlZC4KICBpbnB1dEVsZW1lbnQuZGlzYWJsZWQgPSB0cnVlOwoKICBpZiAoIWZpbGVzKSB7CiAgICByZXR1cm4gewogICAgICByZXNwb25zZTogewogICAgICAgIGFjdGlvbjogJ2NvbXBsZXRlJywKICAgICAgfQogICAgfTsKICB9CgogIGZvciAoY29uc3QgZmlsZSBvZiBmaWxlcykgewogICAgY29uc3QgbGkgPSBkb2N1bWVudC5jcmVhdGVFbGVtZW50KCdsaScpOwogICAgbGkuYXBwZW5kKHNwYW4oZmlsZS5uYW1lLCB7Zm9udFdlaWdodDogJ2JvbGQnfSkpOwogICAgbGkuYXBwZW5kKHNwYW4oCiAgICAgICAgYCgke2ZpbGUudHlwZSB8fCAnbi9hJ30pIC0gJHtmaWxlLnNpemV9IGJ5dGVzLCBgICsKICAgICAgICBgbGFzdCBtb2RpZmllZDogJHsKICAgICAgICAgICAgZmlsZS5sYXN0TW9kaWZpZWREYXRlID8gZmlsZS5sYXN0TW9kaWZpZWREYXRlLnRvTG9jYWxlRGF0ZVN0cmluZygpIDoKICAgICAgICAgICAgICAgICAgICAgICAgICAgICAgICAgICAgJ24vYSd9IC0gYCkpOwogICAgY29uc3QgcGVyY2VudCA9IHNwYW4oJzAlIGRvbmUnKTsKICAgIGxpLmFwcGVuZENoaWxkKHBlcmNlbnQpOwoKICAgIG91dHB1dEVsZW1lbnQuYXBwZW5kQ2hpbGQobGkpOwoKICAgIGNvbnN0IGZpbGVEYXRhUHJvbWlzZSA9IG5ldyBQcm9taXNlKChyZXNvbHZlKSA9PiB7CiAgICAgIGNvbnN0IHJlYWRlciA9IG5ldyBGaWxlUmVhZGVyKCk7CiAgICAgIHJlYWRlci5vbmxvYWQgPSAoZSkgPT4gewogICAgICAgIHJlc29sdmUoZS50YXJnZXQucmVzdWx0KTsKICAgICAgfTsKICAgICAgcmVhZGVyLnJlYWRBc0FycmF5QnVmZmVyKGZpbGUpOwogICAgfSk7CiAgICAvLyBXYWl0IGZvciB0aGUgZGF0YSB0byBiZSByZWFkeS4KICAgIGxldCBmaWxlRGF0YSA9IHlpZWxkIHsKICAgICAgcHJvbWlzZTogZmlsZURhdGFQcm9taXNlLAogICAgICByZXNwb25zZTogewogICAgICAgIGFjdGlvbjogJ2NvbnRpbnVlJywKICAgICAgfQogICAgfTsKCiAgICAvLyBVc2UgYSBjaHVua2VkIHNlbmRpbmcgdG8gYXZvaWQgbWVzc2FnZSBzaXplIGxpbWl0cy4gU2VlIGIvNjIxMTU2NjAuCiAgICBsZXQgcG9zaXRpb24gPSAwOwogICAgZG8gewogICAgICBjb25zdCBsZW5ndGggPSBNYXRoLm1pbihmaWxlRGF0YS5ieXRlTGVuZ3RoIC0gcG9zaXRpb24sIE1BWF9QQVlMT0FEX1NJWkUpOwogICAgICBjb25zdCBjaHVuayA9IG5ldyBVaW50OEFycmF5KGZpbGVEYXRhLCBwb3NpdGlvbiwgbGVuZ3RoKTsKICAgICAgcG9zaXRpb24gKz0gbGVuZ3RoOwoKICAgICAgY29uc3QgYmFzZTY0ID0gYnRvYShTdHJpbmcuZnJvbUNoYXJDb2RlLmFwcGx5KG51bGwsIGNodW5rKSk7CiAgICAgIHlpZWxkIHsKICAgICAgICByZXNwb25zZTogewogICAgICAgICAgYWN0aW9uOiAnYXBwZW5kJywKICAgICAgICAgIGZpbGU6IGZpbGUubmFtZSwKICAgICAgICAgIGRhdGE6IGJhc2U2NCwKICAgICAgICB9LAogICAgICB9OwoKICAgICAgbGV0IHBlcmNlbnREb25lID0gZmlsZURhdGEuYnl0ZUxlbmd0aCA9PT0gMCA/CiAgICAgICAgICAxMDAgOgogICAgICAgICAgTWF0aC5yb3VuZCgocG9zaXRpb24gLyBmaWxlRGF0YS5ieXRlTGVuZ3RoKSAqIDEwMCk7CiAgICAgIHBlcmNlbnQudGV4dENvbnRlbnQgPSBgJHtwZXJjZW50RG9uZX0lIGRvbmVgOwoKICAgIH0gd2hpbGUgKHBvc2l0aW9uIDwgZmlsZURhdGEuYnl0ZUxlbmd0aCk7CiAgfQoKICAvLyBBbGwgZG9uZS4KICB5aWVsZCB7CiAgICByZXNwb25zZTogewogICAgICBhY3Rpb246ICdjb21wbGV0ZScsCiAgICB9CiAgfTsKfQoKc2NvcGUuZ29vZ2xlID0gc2NvcGUuZ29vZ2xlIHx8IHt9OwpzY29wZS5nb29nbGUuY29sYWIgPSBzY29wZS5nb29nbGUuY29sYWIgfHwge307CnNjb3BlLmdvb2dsZS5jb2xhYi5fZmlsZXMgPSB7CiAgX3VwbG9hZEZpbGVzLAogIF91cGxvYWRGaWxlc0NvbnRpbnVlLAp9Owp9KShzZWxmKTsK",
              "ok": true,
              "headers": [
                [
                  "content-type",
                  "application/javascript"
                ]
              ],
              "status": 200,
              "status_text": ""
            }
          },
          "base_uri": "https://localhost:8080/",
          "height": 73
        },
        "id": "3eVJRLY5sAYV",
        "outputId": "396e589a-272d-44ad-9a53-15029d1ef2c7"
      },
      "execution_count": 2,
      "outputs": [
        {
          "output_type": "display_data",
          "data": {
            "text/plain": [
              "<IPython.core.display.HTML object>"
            ],
            "text/html": [
              "\n",
              "     <input type=\"file\" id=\"files-4e09628f-7dd6-4611-b8fd-29de8e8e2a5c\" name=\"files[]\" multiple disabled\n",
              "        style=\"border:none\" />\n",
              "     <output id=\"result-4e09628f-7dd6-4611-b8fd-29de8e8e2a5c\">\n",
              "      Upload widget is only available when the cell has been executed in the\n",
              "      current browser session. Please rerun this cell to enable.\n",
              "      </output>\n",
              "      <script src=\"/nbextensions/google.colab/files.js\"></script> "
            ]
          },
          "metadata": {}
        },
        {
          "output_type": "stream",
          "name": "stdout",
          "text": [
            "Saving bitcoin_price_Training - Training.csv to bitcoin_price_Training - Training.csv\n"
          ]
        }
      ]
    },
    {
      "metadata": {
        "id": "21jugdesW5-7"
      },
      "cell_type": "code",
      "source": [
        "# Importing the training set - only importing training set, test set later  on \n",
        "#rnn has no idea of the test set's data, then after training is done, test set will eb important\n",
        "dataset_train = pd.read_csv('bitcoin_price_Training - Training.csv')\n",
        "\n",
        "#need to make into numpy arrays because only nump arrays can be input values in keras\n",
        "training_set = dataset_train.iloc[:, 1:2].values \n",
        "\n",
        "#getting everything from the columns (.values makes the numpy array)"
      ],
      "execution_count": 3,
      "outputs": []
    },
    {
      "metadata": {
        "id": "pZi462V1qsPK"
      },
      "cell_type": "code",
      "source": [
        "# Feature Scaling\n",
        "#2 ways: take obs- min ofstock prices/max of stock prices- min of stock prices\n",
        "#using normalization instead of standardisation- look at meaning\n",
        "from sklearn.preprocessing import MinMaxScaler\n",
        "sc = MinMaxScaler(feature_range = (0, 1))\n",
        "training_set_scaled = sc.fit_transform(training_set) #fit (gets min and max on data to apply formula) tranform(compute scale stock prices to each formula)"
      ],
      "execution_count": 4,
      "outputs": []
    },
    {
      "metadata": {
        "id": "9C4BE-F1sLpZ"
      },
      "cell_type": "code",
      "source": [
        "# Creating a data structure with 60 timesteps and 1 output\n",
        "#60 times steps- at each time t and look at 60 previous time steps, then make new prediction \n",
        "# 1 time step leads to overfitting, 20 is still too low\n",
        "#60 previous financial days- in 3 months \n",
        "X_train = []\n",
        "y_train = []\n",
        "for i in range(60, 1258): # upper bound is number of values \n",
        "  X_train.append(training_set_scaled[i-60:i, 0]) #takes 60 previous stock prices from 60 past stock prices\n",
        "  y_train.append(training_set_scaled[i, 0]) #contains stock price learned to predict \n",
        "X_train, y_train = np.array(X_train), np.array(y_train) # make into numpy arrays \n",
        "#Need to add dimension to because not only prescition with one stock price but other indicators (like other columns in dataset  or other stocks that may affect this one )"
      ],
      "execution_count": 6,
      "outputs": []
    },
    {
      "metadata": {
        "id": "k_fnQGmSvfTu"
      },
      "cell_type": "code",
      "source": [
        "# Reshaping- add dimension in numpy array \n",
        "X_train = np.reshape(X_train, (X_train.shape[0], X_train.shape[1], 1)) #adds dimension in numpy array\n",
        "#currently only have one indicator, with new dimension will have more indicators, be compatible for \"input shape\" of RNN\n",
        "# format according to keras documentation \n"
      ],
      "execution_count": 7,
      "outputs": []
    },
    {
      "metadata": {
        "id": "j3EQlGCOvhzE"
      },
      "cell_type": "markdown",
      "source": [
        "Part 2 - Building the RNN \n",
        "stacked lstm with dropout regularization to prevent overfitting"
      ]
    },
    {
      "metadata": {
        "id": "4trYuBUXvuB5"
      },
      "cell_type": "code",
      "source": [
        "# Importing the Keras libraries and packages\n",
        "from keras.models import Sequential\n",
        "from keras.layers import Dense\n",
        "from keras.layers import LSTM\n",
        "from keras.layers import Dropout"
      ],
      "execution_count": 8,
      "outputs": []
    },
    {
      "metadata": {
        "id": "Oy4m0z1svv4N"
      },
      "cell_type": "code",
      "source": [
        "# Initialising the RNN\n",
        "regressor = Sequential() #reps sequence of layers, predicting continous values (so it is a regression)"
      ],
      "execution_count": 9,
      "outputs": []
    },
    {
      "metadata": {
        "id": "fWQQNeG_vwXV"
      },
      "cell_type": "code",
      "source": [
        "# Adding the first LSTM layer and some Dropout regularisation\n",
        "#dropout to prevent overfitting\n",
        "regressor.add(LSTM(units = 50, return_sequences = True, input_shape = (X_train.shape[1], 1)))#regressor- object of sequential class, can add layers to networ.\n",
        "#use lstm class and create object of lstm class- 3 args\n",
        "#num of units, return sequences- set to true because is stacked lstms, and shape\n",
        "#units- neurons in first layer. 50 in layers for high dimensionality, can capture upward and downward\n",
        "regressor.add(Dropout(0.2))\n",
        "# takes arg of dropout late- num of neurons want to drop. dropping 20% of neurons to be ignored during trianingn for each iteratin. 10 neurons will be dropped out"
      ],
      "execution_count": 10,
      "outputs": []
    },
    {
      "metadata": {
        "id": "xMTvkPLtvz4r"
      },
      "cell_type": "code",
      "source": [
        "# Adding a second LSTM layer and some Dropout regularisation\n",
        "# total of 4 layers, simply need to copy, only change is input shape so dont need to specify that, automatically recognised through input shape\n",
        "\n",
        "regressor.add(LSTM(units = 50, return_sequences = True)) \n",
        "\n",
        "regressor.add(Dropout(0.2))"
      ],
      "execution_count": 11,
      "outputs": []
    },
    {
      "metadata": {
        "id": "DwZjs53zv0K1"
      },
      "cell_type": "code",
      "source": [
        "# Adding a third LSTM layer and some Dropout regularisation\n",
        "# same as second layer \n",
        "regressor.add(LSTM(units = 50, return_sequences = True))\n",
        "regressor.add(Dropout(0.2))"
      ],
      "execution_count": 12,
      "outputs": []
    },
    {
      "metadata": {
        "id": "TqAm5r3_v9b-"
      },
      "cell_type": "code",
      "source": [
        "# Adding a fourth LSTM layer and some Dropout regularisation\n",
        "# almost same, but return sequence is false because it is the last lstm layer (so it is removed becasue default is false)\n",
        "regressor.add(LSTM(units = 50))\n",
        "regressor.add(Dropout(0.2))"
      ],
      "execution_count": 13,
      "outputs": []
    },
    {
      "metadata": {
        "id": "GyBA3V_WwAP5"
      },
      "cell_type": "code",
      "source": [
        "# Adding the output layer\n",
        "#add fully connected layer through dense class- dimesion/units/neurons is 1\n",
        "regressor.add(Dense(units = 1))"
      ],
      "execution_count": 14,
      "outputs": []
    },
    {
      "metadata": {
        "id": "F_GkymP6wAbZ"
      },
      "cell_type": "code",
      "source": [
        "# Compiling the RNN\n",
        "#regressior because predicting continuous value, \n",
        "regressor.compile(optimizer = 'adam', loss = 'mean_squared_error')"
      ],
      "execution_count": 15,
      "outputs": []
    },
    {
      "metadata": {
        "id": "s__QxkRNwHRO",
        "outputId": "c3f590d0-008e-4463-9323-46ef372770c2",
        "colab": {
          "base_uri": "https://localhost:8080/"
        }
      },
      "cell_type": "code",
      "source": [
        "# Fitting the RNN to the Training set\n",
        "#have not made connection to training set, training will take place\n",
        "regressor.fit(X_train, y_train, epochs = 200, batch_size = 32) # CHANGE BACK TO 100 IF NOT WORK\n",
        "#100 gives good convergence\n",
        "# trained on certain batch sizes, "
      ],
      "execution_count": 16,
      "outputs": [
        {
          "output_type": "stream",
          "name": "stdout",
          "text": [
            "Epoch 1/200\n",
            "38/38 [==============================] - 10s 16ms/step - loss: 0.0051\n",
            "Epoch 2/200\n",
            "38/38 [==============================] - 1s 13ms/step - loss: 0.0011\n",
            "Epoch 3/200\n",
            "38/38 [==============================] - 1s 13ms/step - loss: 9.1756e-04\n",
            "Epoch 4/200\n",
            "38/38 [==============================] - 1s 14ms/step - loss: 9.8849e-04\n",
            "Epoch 5/200\n",
            "38/38 [==============================] - 1s 13ms/step - loss: 8.1511e-04\n",
            "Epoch 6/200\n",
            "38/38 [==============================] - 1s 13ms/step - loss: 8.8836e-04\n",
            "Epoch 7/200\n",
            "38/38 [==============================] - 1s 13ms/step - loss: 8.9992e-04\n",
            "Epoch 8/200\n",
            "38/38 [==============================] - 1s 13ms/step - loss: 7.3828e-04\n",
            "Epoch 9/200\n",
            "38/38 [==============================] - 1s 14ms/step - loss: 6.9715e-04\n",
            "Epoch 10/200\n",
            "38/38 [==============================] - 1s 15ms/step - loss: 6.8674e-04\n",
            "Epoch 11/200\n",
            "38/38 [==============================] - 1s 15ms/step - loss: 7.3298e-04\n",
            "Epoch 12/200\n",
            "38/38 [==============================] - 1s 14ms/step - loss: 7.0741e-04\n",
            "Epoch 13/200\n",
            "38/38 [==============================] - 1s 14ms/step - loss: 6.5817e-04\n",
            "Epoch 14/200\n",
            "38/38 [==============================] - 1s 14ms/step - loss: 6.4558e-04\n",
            "Epoch 15/200\n",
            "38/38 [==============================] - 1s 14ms/step - loss: 7.7156e-04\n",
            "Epoch 16/200\n",
            "38/38 [==============================] - 1s 14ms/step - loss: 5.6583e-04\n",
            "Epoch 17/200\n",
            "38/38 [==============================] - 1s 14ms/step - loss: 5.9314e-04\n",
            "Epoch 18/200\n",
            "38/38 [==============================] - 1s 14ms/step - loss: 5.5903e-04\n",
            "Epoch 19/200\n",
            "38/38 [==============================] - 1s 14ms/step - loss: 5.1592e-04\n",
            "Epoch 20/200\n",
            "38/38 [==============================] - 1s 14ms/step - loss: 6.5741e-04\n",
            "Epoch 21/200\n",
            "38/38 [==============================] - 1s 13ms/step - loss: 6.2222e-04\n",
            "Epoch 22/200\n",
            "38/38 [==============================] - 1s 13ms/step - loss: 5.6988e-04\n",
            "Epoch 23/200\n",
            "38/38 [==============================] - 1s 13ms/step - loss: 5.6122e-04\n",
            "Epoch 24/200\n",
            "38/38 [==============================] - 1s 13ms/step - loss: 6.0401e-04\n",
            "Epoch 25/200\n",
            "38/38 [==============================] - 1s 13ms/step - loss: 4.9528e-04\n",
            "Epoch 26/200\n",
            "38/38 [==============================] - 1s 14ms/step - loss: 5.7318e-04\n",
            "Epoch 27/200\n",
            "38/38 [==============================] - 1s 13ms/step - loss: 6.1391e-04\n",
            "Epoch 28/200\n",
            "38/38 [==============================] - 1s 14ms/step - loss: 5.5916e-04\n",
            "Epoch 29/200\n",
            "38/38 [==============================] - 1s 13ms/step - loss: 5.3682e-04\n",
            "Epoch 30/200\n",
            "38/38 [==============================] - 1s 13ms/step - loss: 7.8453e-04\n",
            "Epoch 31/200\n",
            "38/38 [==============================] - 1s 13ms/step - loss: 6.1615e-04\n",
            "Epoch 32/200\n",
            "38/38 [==============================] - 1s 14ms/step - loss: 4.7912e-04\n",
            "Epoch 33/200\n",
            "38/38 [==============================] - 1s 14ms/step - loss: 5.2824e-04\n",
            "Epoch 34/200\n",
            "38/38 [==============================] - 1s 14ms/step - loss: 4.8304e-04\n",
            "Epoch 35/200\n",
            "38/38 [==============================] - 1s 13ms/step - loss: 5.9764e-04\n",
            "Epoch 36/200\n",
            "38/38 [==============================] - 1s 14ms/step - loss: 5.5483e-04\n",
            "Epoch 37/200\n",
            "38/38 [==============================] - 1s 14ms/step - loss: 5.7642e-04\n",
            "Epoch 38/200\n",
            "38/38 [==============================] - 1s 14ms/step - loss: 6.9777e-04\n",
            "Epoch 39/200\n",
            "38/38 [==============================] - 1s 22ms/step - loss: 5.0871e-04\n",
            "Epoch 40/200\n",
            "38/38 [==============================] - 1s 27ms/step - loss: 5.8719e-04\n",
            "Epoch 41/200\n",
            "38/38 [==============================] - 1s 25ms/step - loss: 4.7039e-04\n",
            "Epoch 42/200\n",
            "38/38 [==============================] - 1s 26ms/step - loss: 4.6827e-04\n",
            "Epoch 43/200\n",
            "38/38 [==============================] - 1s 23ms/step - loss: 4.6837e-04\n",
            "Epoch 44/200\n",
            "38/38 [==============================] - 1s 17ms/step - loss: 3.9290e-04\n",
            "Epoch 45/200\n",
            "38/38 [==============================] - 1s 14ms/step - loss: 4.7941e-04\n",
            "Epoch 46/200\n",
            "38/38 [==============================] - 1s 13ms/step - loss: 3.8712e-04\n",
            "Epoch 47/200\n",
            "38/38 [==============================] - 1s 14ms/step - loss: 3.4681e-04\n",
            "Epoch 48/200\n",
            "38/38 [==============================] - 1s 14ms/step - loss: 4.5114e-04\n",
            "Epoch 49/200\n",
            "38/38 [==============================] - 1s 14ms/step - loss: 4.2889e-04\n",
            "Epoch 50/200\n",
            "38/38 [==============================] - 1s 13ms/step - loss: 4.1490e-04\n",
            "Epoch 51/200\n",
            "38/38 [==============================] - 1s 13ms/step - loss: 3.8748e-04\n",
            "Epoch 52/200\n",
            "38/38 [==============================] - 1s 15ms/step - loss: 5.7076e-04\n",
            "Epoch 53/200\n",
            "38/38 [==============================] - 1s 15ms/step - loss: 3.7869e-04\n",
            "Epoch 54/200\n",
            "38/38 [==============================] - 1s 14ms/step - loss: 3.8975e-04\n",
            "Epoch 55/200\n",
            "38/38 [==============================] - 1s 14ms/step - loss: 3.8641e-04\n",
            "Epoch 56/200\n",
            "38/38 [==============================] - 1s 14ms/step - loss: 3.7825e-04\n",
            "Epoch 57/200\n",
            "38/38 [==============================] - 1s 14ms/step - loss: 5.0998e-04\n",
            "Epoch 58/200\n",
            "38/38 [==============================] - 1s 14ms/step - loss: 4.2636e-04\n",
            "Epoch 59/200\n",
            "38/38 [==============================] - 1s 13ms/step - loss: 4.2208e-04\n",
            "Epoch 60/200\n",
            "38/38 [==============================] - 1s 13ms/step - loss: 3.4611e-04\n",
            "Epoch 61/200\n",
            "38/38 [==============================] - 1s 13ms/step - loss: 5.3857e-04\n",
            "Epoch 62/200\n",
            "38/38 [==============================] - 1s 13ms/step - loss: 4.4148e-04\n",
            "Epoch 63/200\n",
            "38/38 [==============================] - 1s 13ms/step - loss: 3.7587e-04\n",
            "Epoch 64/200\n",
            "38/38 [==============================] - 1s 13ms/step - loss: 4.1671e-04\n",
            "Epoch 65/200\n",
            "38/38 [==============================] - 1s 14ms/step - loss: 3.9020e-04\n",
            "Epoch 66/200\n",
            "38/38 [==============================] - 1s 13ms/step - loss: 4.2802e-04\n",
            "Epoch 67/200\n",
            "38/38 [==============================] - 1s 14ms/step - loss: 3.8293e-04\n",
            "Epoch 68/200\n",
            "38/38 [==============================] - 1s 14ms/step - loss: 4.0911e-04\n",
            "Epoch 69/200\n",
            "38/38 [==============================] - 1s 13ms/step - loss: 3.4937e-04\n",
            "Epoch 70/200\n",
            "38/38 [==============================] - 1s 13ms/step - loss: 3.2998e-04\n",
            "Epoch 71/200\n",
            "38/38 [==============================] - 1s 13ms/step - loss: 4.2236e-04\n",
            "Epoch 72/200\n",
            "38/38 [==============================] - 1s 13ms/step - loss: 4.8920e-04\n",
            "Epoch 73/200\n",
            "38/38 [==============================] - 1s 13ms/step - loss: 4.3695e-04\n",
            "Epoch 74/200\n",
            "38/38 [==============================] - 1s 14ms/step - loss: 3.5877e-04\n",
            "Epoch 75/200\n",
            "38/38 [==============================] - 1s 13ms/step - loss: 3.0587e-04\n",
            "Epoch 76/200\n",
            "38/38 [==============================] - 1s 13ms/step - loss: 3.8214e-04\n",
            "Epoch 77/200\n",
            "38/38 [==============================] - 1s 13ms/step - loss: 3.6984e-04\n",
            "Epoch 78/200\n",
            "38/38 [==============================] - 1s 13ms/step - loss: 3.1702e-04\n",
            "Epoch 79/200\n",
            "38/38 [==============================] - 0s 13ms/step - loss: 4.2054e-04\n",
            "Epoch 80/200\n",
            "38/38 [==============================] - 1s 14ms/step - loss: 4.0211e-04\n",
            "Epoch 81/200\n",
            "38/38 [==============================] - 1s 13ms/step - loss: 3.6836e-04\n",
            "Epoch 82/200\n",
            "38/38 [==============================] - 1s 14ms/step - loss: 3.5862e-04\n",
            "Epoch 83/200\n",
            "38/38 [==============================] - 1s 13ms/step - loss: 3.3702e-04\n",
            "Epoch 84/200\n",
            "38/38 [==============================] - 1s 14ms/step - loss: 3.5747e-04\n",
            "Epoch 85/200\n",
            "38/38 [==============================] - 1s 14ms/step - loss: 3.4273e-04\n",
            "Epoch 86/200\n",
            "38/38 [==============================] - 1s 14ms/step - loss: 3.5036e-04\n",
            "Epoch 87/200\n",
            "38/38 [==============================] - 1s 13ms/step - loss: 3.6010e-04\n",
            "Epoch 88/200\n",
            "38/38 [==============================] - 1s 14ms/step - loss: 3.2642e-04\n",
            "Epoch 89/200\n",
            "38/38 [==============================] - 0s 13ms/step - loss: 3.1958e-04\n",
            "Epoch 90/200\n",
            "38/38 [==============================] - 1s 14ms/step - loss: 3.4095e-04\n",
            "Epoch 91/200\n",
            "38/38 [==============================] - 1s 13ms/step - loss: 3.1004e-04\n",
            "Epoch 92/200\n",
            "38/38 [==============================] - 1s 14ms/step - loss: 2.6080e-04\n",
            "Epoch 93/200\n",
            "38/38 [==============================] - 0s 13ms/step - loss: 2.7896e-04\n",
            "Epoch 94/200\n",
            "38/38 [==============================] - 1s 13ms/step - loss: 3.3954e-04\n",
            "Epoch 95/200\n",
            "38/38 [==============================] - 1s 13ms/step - loss: 3.3137e-04\n",
            "Epoch 96/200\n",
            "38/38 [==============================] - 1s 13ms/step - loss: 3.3752e-04\n",
            "Epoch 97/200\n",
            "38/38 [==============================] - 0s 13ms/step - loss: 2.9292e-04\n",
            "Epoch 98/200\n",
            "38/38 [==============================] - 1s 13ms/step - loss: 3.7617e-04\n",
            "Epoch 99/200\n",
            "38/38 [==============================] - 1s 13ms/step - loss: 2.5006e-04\n",
            "Epoch 100/200\n",
            "38/38 [==============================] - 1s 13ms/step - loss: 2.8818e-04\n",
            "Epoch 101/200\n",
            "38/38 [==============================] - 1s 13ms/step - loss: 2.8676e-04\n",
            "Epoch 102/200\n",
            "38/38 [==============================] - 1s 13ms/step - loss: 3.6255e-04\n",
            "Epoch 103/200\n",
            "38/38 [==============================] - 1s 13ms/step - loss: 2.7286e-04\n",
            "Epoch 104/200\n",
            "38/38 [==============================] - 1s 14ms/step - loss: 2.7789e-04\n",
            "Epoch 105/200\n",
            "38/38 [==============================] - 1s 13ms/step - loss: 2.9032e-04\n",
            "Epoch 106/200\n",
            "38/38 [==============================] - 1s 13ms/step - loss: 3.1520e-04\n",
            "Epoch 107/200\n",
            "38/38 [==============================] - 1s 13ms/step - loss: 2.5881e-04\n",
            "Epoch 108/200\n",
            "38/38 [==============================] - 1s 13ms/step - loss: 3.1982e-04\n",
            "Epoch 109/200\n",
            "38/38 [==============================] - 0s 13ms/step - loss: 2.7802e-04\n",
            "Epoch 110/200\n",
            "38/38 [==============================] - 1s 13ms/step - loss: 2.1299e-04\n",
            "Epoch 111/200\n",
            "38/38 [==============================] - 1s 13ms/step - loss: 3.2611e-04\n",
            "Epoch 112/200\n",
            "38/38 [==============================] - 1s 15ms/step - loss: 3.1828e-04\n",
            "Epoch 113/200\n",
            "38/38 [==============================] - 1s 13ms/step - loss: 2.5234e-04\n",
            "Epoch 114/200\n",
            "38/38 [==============================] - 1s 27ms/step - loss: 2.5459e-04\n",
            "Epoch 115/200\n",
            "38/38 [==============================] - 1s 13ms/step - loss: 2.5301e-04\n",
            "Epoch 116/200\n",
            "38/38 [==============================] - 0s 13ms/step - loss: 2.5378e-04\n",
            "Epoch 117/200\n",
            "38/38 [==============================] - 1s 14ms/step - loss: 2.5569e-04\n",
            "Epoch 118/200\n",
            "38/38 [==============================] - 1s 13ms/step - loss: 3.7731e-04\n",
            "Epoch 119/200\n",
            "38/38 [==============================] - 1s 14ms/step - loss: 2.9327e-04\n",
            "Epoch 120/200\n",
            "38/38 [==============================] - 1s 13ms/step - loss: 2.8933e-04\n",
            "Epoch 121/200\n",
            "38/38 [==============================] - 1s 13ms/step - loss: 3.2597e-04\n",
            "Epoch 122/200\n",
            "38/38 [==============================] - 1s 13ms/step - loss: 2.8948e-04\n",
            "Epoch 123/200\n",
            "38/38 [==============================] - 1s 14ms/step - loss: 2.6662e-04\n",
            "Epoch 124/200\n",
            "38/38 [==============================] - 1s 13ms/step - loss: 2.8142e-04\n",
            "Epoch 125/200\n",
            "38/38 [==============================] - 1s 14ms/step - loss: 3.2673e-04\n",
            "Epoch 126/200\n",
            "38/38 [==============================] - 1s 14ms/step - loss: 2.9655e-04\n",
            "Epoch 127/200\n",
            "38/38 [==============================] - 1s 13ms/step - loss: 2.6551e-04\n",
            "Epoch 128/200\n",
            "38/38 [==============================] - 1s 13ms/step - loss: 2.5506e-04\n",
            "Epoch 129/200\n",
            "38/38 [==============================] - 1s 14ms/step - loss: 3.1976e-04\n",
            "Epoch 130/200\n",
            "38/38 [==============================] - 1s 13ms/step - loss: 2.6163e-04\n",
            "Epoch 131/200\n",
            "38/38 [==============================] - 1s 14ms/step - loss: 2.3394e-04\n",
            "Epoch 132/200\n",
            "38/38 [==============================] - 1s 14ms/step - loss: 2.4576e-04\n",
            "Epoch 133/200\n",
            "38/38 [==============================] - 1s 13ms/step - loss: 2.3880e-04\n",
            "Epoch 134/200\n",
            "38/38 [==============================] - 1s 13ms/step - loss: 2.9462e-04\n",
            "Epoch 135/200\n",
            "38/38 [==============================] - 1s 14ms/step - loss: 2.6739e-04\n",
            "Epoch 136/200\n",
            "38/38 [==============================] - 1s 13ms/step - loss: 2.4384e-04\n",
            "Epoch 137/200\n",
            "38/38 [==============================] - 1s 14ms/step - loss: 2.3051e-04\n",
            "Epoch 138/200\n",
            "38/38 [==============================] - 1s 14ms/step - loss: 2.2022e-04\n",
            "Epoch 139/200\n",
            "38/38 [==============================] - 1s 13ms/step - loss: 2.5661e-04\n",
            "Epoch 140/200\n",
            "38/38 [==============================] - 1s 14ms/step - loss: 2.5528e-04\n",
            "Epoch 141/200\n",
            "38/38 [==============================] - 1s 13ms/step - loss: 3.1039e-04\n",
            "Epoch 142/200\n",
            "38/38 [==============================] - 1s 14ms/step - loss: 3.5656e-04\n",
            "Epoch 143/200\n",
            "38/38 [==============================] - 1s 13ms/step - loss: 2.2785e-04\n",
            "Epoch 144/200\n",
            "38/38 [==============================] - 1s 13ms/step - loss: 2.7813e-04\n",
            "Epoch 145/200\n",
            "38/38 [==============================] - 1s 14ms/step - loss: 2.6414e-04\n",
            "Epoch 146/200\n",
            "38/38 [==============================] - 1s 13ms/step - loss: 2.6559e-04\n",
            "Epoch 147/200\n",
            "38/38 [==============================] - 1s 14ms/step - loss: 2.5604e-04\n",
            "Epoch 148/200\n",
            "38/38 [==============================] - 1s 15ms/step - loss: 2.7077e-04\n",
            "Epoch 149/200\n",
            "38/38 [==============================] - 1s 14ms/step - loss: 2.2811e-04\n",
            "Epoch 150/200\n",
            "38/38 [==============================] - 1s 13ms/step - loss: 2.0331e-04\n",
            "Epoch 151/200\n",
            "38/38 [==============================] - 1s 14ms/step - loss: 2.2065e-04\n",
            "Epoch 152/200\n",
            "38/38 [==============================] - 1s 14ms/step - loss: 2.8849e-04\n",
            "Epoch 153/200\n",
            "38/38 [==============================] - 1s 13ms/step - loss: 2.5519e-04\n",
            "Epoch 154/200\n",
            "38/38 [==============================] - 1s 13ms/step - loss: 2.9031e-04\n",
            "Epoch 155/200\n",
            "38/38 [==============================] - 1s 13ms/step - loss: 2.5396e-04\n",
            "Epoch 156/200\n",
            "38/38 [==============================] - 1s 14ms/step - loss: 2.0514e-04\n",
            "Epoch 157/200\n",
            "38/38 [==============================] - 1s 14ms/step - loss: 2.3295e-04\n",
            "Epoch 158/200\n",
            "38/38 [==============================] - 1s 14ms/step - loss: 2.6351e-04\n",
            "Epoch 159/200\n",
            "38/38 [==============================] - 1s 13ms/step - loss: 2.4144e-04\n",
            "Epoch 160/200\n",
            "38/38 [==============================] - 1s 14ms/step - loss: 2.4832e-04\n",
            "Epoch 161/200\n",
            "38/38 [==============================] - 1s 14ms/step - loss: 2.3582e-04\n",
            "Epoch 162/200\n",
            "38/38 [==============================] - 1s 14ms/step - loss: 1.9819e-04\n",
            "Epoch 163/200\n",
            "38/38 [==============================] - 1s 14ms/step - loss: 2.6731e-04\n",
            "Epoch 164/200\n",
            "38/38 [==============================] - 1s 14ms/step - loss: 2.1396e-04\n",
            "Epoch 165/200\n",
            "38/38 [==============================] - 1s 14ms/step - loss: 2.7924e-04\n",
            "Epoch 166/200\n",
            "38/38 [==============================] - 1s 14ms/step - loss: 2.8352e-04\n",
            "Epoch 167/200\n",
            "38/38 [==============================] - 1s 13ms/step - loss: 2.3722e-04\n",
            "Epoch 168/200\n",
            "38/38 [==============================] - 1s 14ms/step - loss: 2.2791e-04\n",
            "Epoch 169/200\n",
            "38/38 [==============================] - 1s 14ms/step - loss: 3.0792e-04\n",
            "Epoch 170/200\n",
            "38/38 [==============================] - 1s 15ms/step - loss: 3.1022e-04\n",
            "Epoch 171/200\n",
            "38/38 [==============================] - 1s 14ms/step - loss: 2.9877e-04\n",
            "Epoch 172/200\n",
            "38/38 [==============================] - 1s 14ms/step - loss: 3.5827e-04\n",
            "Epoch 173/200\n",
            "38/38 [==============================] - 1s 14ms/step - loss: 2.4554e-04\n",
            "Epoch 174/200\n",
            "38/38 [==============================] - 1s 14ms/step - loss: 2.7984e-04\n",
            "Epoch 175/200\n",
            "38/38 [==============================] - 1s 14ms/step - loss: 2.3290e-04\n",
            "Epoch 176/200\n",
            "38/38 [==============================] - 1s 13ms/step - loss: 2.7522e-04\n",
            "Epoch 177/200\n",
            "38/38 [==============================] - 1s 14ms/step - loss: 3.1016e-04\n",
            "Epoch 178/200\n",
            "38/38 [==============================] - 1s 14ms/step - loss: 2.7347e-04\n",
            "Epoch 179/200\n",
            "38/38 [==============================] - 1s 14ms/step - loss: 2.2967e-04\n",
            "Epoch 180/200\n",
            "38/38 [==============================] - 1s 13ms/step - loss: 2.3529e-04\n",
            "Epoch 181/200\n",
            "38/38 [==============================] - 1s 14ms/step - loss: 2.3677e-04\n",
            "Epoch 182/200\n",
            "38/38 [==============================] - 1s 14ms/step - loss: 2.3449e-04\n",
            "Epoch 183/200\n",
            "38/38 [==============================] - 1s 14ms/step - loss: 2.3479e-04\n",
            "Epoch 184/200\n",
            "38/38 [==============================] - 1s 14ms/step - loss: 2.1251e-04\n",
            "Epoch 185/200\n",
            "38/38 [==============================] - 1s 14ms/step - loss: 2.3492e-04\n",
            "Epoch 186/200\n",
            "38/38 [==============================] - 1s 13ms/step - loss: 2.3096e-04\n",
            "Epoch 187/200\n",
            "38/38 [==============================] - 1s 14ms/step - loss: 2.3003e-04\n",
            "Epoch 188/200\n",
            "38/38 [==============================] - 1s 14ms/step - loss: 2.6728e-04\n",
            "Epoch 189/200\n",
            "38/38 [==============================] - 1s 14ms/step - loss: 2.4372e-04\n",
            "Epoch 190/200\n",
            "38/38 [==============================] - 1s 13ms/step - loss: 2.7389e-04\n",
            "Epoch 191/200\n",
            "38/38 [==============================] - 1s 14ms/step - loss: 2.4462e-04\n",
            "Epoch 192/200\n",
            "38/38 [==============================] - 1s 14ms/step - loss: 2.4215e-04\n",
            "Epoch 193/200\n",
            "38/38 [==============================] - 1s 14ms/step - loss: 2.5088e-04\n",
            "Epoch 194/200\n",
            "38/38 [==============================] - 1s 14ms/step - loss: 2.7225e-04\n",
            "Epoch 195/200\n",
            "38/38 [==============================] - 1s 14ms/step - loss: 2.1675e-04\n",
            "Epoch 196/200\n",
            "38/38 [==============================] - 1s 13ms/step - loss: 2.2822e-04\n",
            "Epoch 197/200\n",
            "38/38 [==============================] - 1s 13ms/step - loss: 2.7806e-04\n",
            "Epoch 198/200\n",
            "38/38 [==============================] - 1s 14ms/step - loss: 2.3652e-04\n",
            "Epoch 199/200\n",
            "38/38 [==============================] - 1s 15ms/step - loss: 2.4488e-04\n",
            "Epoch 200/200\n",
            "38/38 [==============================] - 1s 15ms/step - loss: 2.3560e-04\n"
          ]
        },
        {
          "output_type": "execute_result",
          "data": {
            "text/plain": [
              "<keras.callbacks.History at 0x7fdf9d0e2290>"
            ]
          },
          "metadata": {},
          "execution_count": 16
        }
      ]
    },
    {
      "metadata": {
        "id": "GHac1P0e5U4G"
      },
      "cell_type": "markdown",
      "source": [
        "Part 3 - Making the predictions and visualising the results"
      ]
    },
    {
      "cell_type": "code",
      "source": [
        "from google.colab import files\n",
        "\n",
        "uploaded = files.upload()"
      ],
      "metadata": {
        "colab": {
          "resources": {
            "http://localhost:8080/nbextensions/google.colab/files.js": {
              "data": "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",
              "ok": true,
              "headers": [
                [
                  "content-type",
                  "application/javascript"
                ]
              ],
              "status": 200,
              "status_text": ""
            }
          },
          "base_uri": "https://localhost:8080/",
          "height": 73
        },
        "id": "Ipm5pZoFxcgl",
        "outputId": "362cbc74-557a-49ed-c393-0712a5960c1f"
      },
      "execution_count": 17,
      "outputs": [
        {
          "output_type": "display_data",
          "data": {
            "text/plain": [
              "<IPython.core.display.HTML object>"
            ],
            "text/html": [
              "\n",
              "     <input type=\"file\" id=\"files-5dc1c074-cd56-4215-a5eb-639e045676ae\" name=\"files[]\" multiple disabled\n",
              "        style=\"border:none\" />\n",
              "     <output id=\"result-5dc1c074-cd56-4215-a5eb-639e045676ae\">\n",
              "      Upload widget is only available when the cell has been executed in the\n",
              "      current browser session. Please rerun this cell to enable.\n",
              "      </output>\n",
              "      <script src=\"/nbextensions/google.colab/files.js\"></script> "
            ]
          },
          "metadata": {}
        },
        {
          "output_type": "stream",
          "name": "stdout",
          "text": [
            "Saving bitcoin_price_1week_Test - Test.csv to bitcoin_price_1week_Test - Test.csv\n"
          ]
        }
      ]
    },
    {
      "metadata": {
        "id": "9A6R2mXldQk9"
      },
      "cell_type": "code",
      "source": [
        "# Getting the real stock price of 2018\n",
        "dataset_test = pd.read_csv('bitcoin_price_1week_Test - Test.csv')\n",
        "real_stock_price = dataset_test.iloc[:, 1:2].values"
      ],
      "execution_count": 19,
      "outputs": []
    },
    {
      "cell_type": "code",
      "source": [
        "real_stock_price.shape"
      ],
      "metadata": {
        "colab": {
          "base_uri": "https://localhost:8080/"
        },
        "id": "WpWjBmH0xlCS",
        "outputId": "770657b1-5040-4281-90de-1d3c7a38c427"
      },
      "execution_count": 21,
      "outputs": [
        {
          "output_type": "execute_result",
          "data": {
            "text/plain": [
              "(7, 1)"
            ]
          },
          "metadata": {},
          "execution_count": 21
        }
      ]
    },
    {
      "metadata": {
        "id": "419ZQNSFwHf5"
      },
      "cell_type": "code",
      "source": [
        "# Getting the predicted stock price of 2018\n",
        "dataset_total = pd.concat((dataset_train['Open'], dataset_test['Open']), axis = 0)\n",
        "inputs = dataset_total[len(dataset_total) - len(dataset_test) - 60:].values #getting input of each previous financial days\n",
        "inputs = inputs.reshape(-1,1)\n",
        "inputs = sc.transform(inputs)\n",
        "X_test = []\n",
        "for i in range(60, 66):\n",
        "    X_test.append(inputs[i-60:i, 0])\n",
        "X_test = np.array(X_test)\n",
        "X_test = np.reshape(X_test, (X_test.shape[0], X_test.shape[1], 1))\n",
        "predicted_stock_price = regressor.predict(X_test)\n",
        "predicted_stock_price = sc.inverse_transform(predicted_stock_price)\n"
      ],
      "execution_count": 24,
      "outputs": []
    },
    {
      "metadata": {
        "id": "skhdvmCywHrr",
        "outputId": "3d25db7e-5d2f-42ed-be77-01effaa4b206",
        "colab": {
          "base_uri": "https://localhost:8080/",
          "height": 295
        }
      },
      "cell_type": "code",
      "source": [
        "# Visualising the results\n",
        "plt.plot(real_stock_price, color = 'red', label = 'Real Google Stock Price')\n",
        "plt.plot(predicted_stock_price, color = 'blue', label = 'Predicted Google Stock Price')\n",
        "plt.title('Google Stock Price Prediction')\n",
        "plt.xlabel('Time')\n",
        "plt.ylabel('Google Stock Price')\n",
        "plt.legend()\n",
        "plt.show()"
      ],
      "execution_count": 25,
      "outputs": [
        {
          "output_type": "display_data",
          "data": {
            "text/plain": [
              "<Figure size 432x288 with 1 Axes>"
            ],
            "image/png": "[encoded data removed]"
          },
          "metadata": {
            "needs_background": "light"
          }
        }
      ]
    },
    {
      "cell_type": "markdown",
      "source": [
        "# **Practicing on pediction of sin data**"
      ],
      "metadata": {
        "id": "2RZ4Arpp6FJ7"
      }
    },
    {
      "cell_type": "code",
      "source": [
        "# Importing the libraries\n",
        "import numpy as np #allow to make arrays\n",
        "import matplotlib.pyplot as plt #visualize results on charts \n",
        "import pandas as pd #import dataset and manage easily"
      ],
      "metadata": {
        "id": "YVxUlB9p0g9n"
      },
      "execution_count": 89,
      "outputs": []
    },
    {
      "cell_type": "code",
      "source": [
        "from google.colab import files\n",
        "\n",
        "uploaded = files.upload()"
      ],
      "metadata": {
        "colab": {
          "resources": {
            "http://localhost:8080/nbextensions/google.colab/files.js": {
              "data": "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",
              "ok": true,
              "headers": [
                [
                  "content-type",
                  "application/javascript"
                ]
              ],
              "status": 200,
              "status_text": ""
            }
          },
          "base_uri": "https://localhost:8080/",
          "height": 107
        },
        "id": "Tn9Y2vAn7--z",
        "outputId": "26c0560b-677a-4eb7-fc8f-168060ca9584"
      },
      "execution_count": 119,
      "outputs": [
        {
          "output_type": "display_data",
          "data": {
            "text/plain": [
              "<IPython.core.display.HTML object>"
            ],
            "text/html": [
              "\n",
              "     <input type=\"file\" id=\"files-f9eb65d0-a54a-4e1b-a3fb-dbf85f3308e3\" name=\"files[]\" multiple disabled\n",
              "        style=\"border:none\" />\n",
              "     <output id=\"result-f9eb65d0-a54a-4e1b-a3fb-dbf85f3308e3\">\n",
              "      Upload widget is only available when the cell has been executed in the\n",
              "      current browser session. Please rerun this cell to enable.\n",
              "      </output>\n",
              "      <script src=\"/nbextensions/google.colab/files.js\"></script> "
            ]
          },
          "metadata": {}
        },
        {
          "output_type": "stream",
          "name": "stdout",
          "text": [
            "Saving sin func test.csv to sin func test.csv\n",
            "Saving sin fun train.csv to sin fun train.csv\n"
          ]
        }
      ]
    },
    {
      "cell_type": "code",
      "source": [
        "# Importing the training set - only importing training set, test set later  on \n",
        "#rnn has no idea of the test set's data, then after training is done, test set will eb important\n",
        "dataset_train = pd.read_csv('sin fun train.csv')\n",
        "\n",
        "#need to make into numpy arrays because only nump arrays can be input values in keras\n",
        "training_set = dataset_train.iloc[:, 1:2].values \n",
        "\n",
        "#getting everything from the columns (.values makes the numpy array)"
      ],
      "metadata": {
        "id": "o4G_EIBG6XKY"
      },
      "execution_count": 120,
      "outputs": []
    },
    {
      "cell_type": "code",
      "source": [
        "# Feature Scaling\n",
        "#2 ways: take obs- min ofstock prices/max of stock prices- min of stock prices\n",
        "#using normalization instead of standardisation- look at meaning\n",
        "from sklearn.preprocessing import MinMaxScaler\n",
        "sc = MinMaxScaler(feature_range = (0, 1))\n",
        "training_set_scaled = sc.fit_transform(training_set) #fit (gets min and max on data to apply formula) tranform(compute scale stock prices to each formula)"
      ],
      "metadata": {
        "id": "rTVAWE036ctK"
      },
      "execution_count": 121,
      "outputs": []
    },
    {
      "cell_type": "code",
      "source": [
        "# Creating a data structure with 60 timesteps and 1 output\n",
        "#60 times steps- at each time t and look at 60 previous time steps, then make new prediction \n",
        "# 1 time step leads to overfitting, 20 is still too low\n",
        "#60 previous financial days- in 3 months \n",
        "X_train = []\n",
        "y_train = []\n",
        "for i in range(60, 1258): # upper bound is number of values \n",
        "  X_train.append(training_set_scaled[i-60:i, 0]) #takes 60 previous stock prices from 60 past stock prices\n",
        "  y_train.append(training_set_scaled[i, 0]) #contains stock price learned to predict \n",
        "X_train, y_train = np.array(X_train), np.array(y_train) # make into numpy arrays \n",
        "#Need to add dimension to because not only prescition with one stock price but other indicators (like other columns in dataset  or other stocks that may affect this one )"
      ],
      "metadata": {
        "id": "6r1VtStW6fqx"
      },
      "execution_count": 122,
      "outputs": []
    },
    {
      "cell_type": "code",
      "source": [
        "# Reshaping- add dimension in numpy array \n",
        "X_train = np.reshape(X_train, (X_train.shape[0], X_train.shape[1], 1)) #adds dimension in numpy array\n",
        "#currently only have one indicator, with new dimension will have more indicators, be compatible for \"input shape\" of RNN\n",
        "# format according to keras documentation \n"
      ],
      "metadata": {
        "id": "kZzL-6l86h4u"
      },
      "execution_count": 123,
      "outputs": []
    },
    {
      "cell_type": "code",
      "source": [
        "# Getting the real stock price of 2018\n",
        "dataset_test = pd.read_csv('sin func test.csv')\n",
        "real_stock_price = dataset_test.iloc[:, 1:2].values"
      ],
      "metadata": {
        "id": "Fo8WLoGe6pVA"
      },
      "execution_count": 124,
      "outputs": []
    },
    {
      "cell_type": "code",
      "source": [
        "# Getting the predicted stock price of 2018\n",
        "dataset_total = pd.concat((dataset_train['Open'], dataset_test['Open']), axis = 0)\n",
        "inputs = dataset_total[len(dataset_total) - len(dataset_test) - 60:].values #getting input of each previous financial days\n",
        "inputs = inputs.reshape(-1,1)\n",
        "inputs = sc.transform(inputs)\n",
        "X_test = []\n",
        "for i in range(60, 79):\n",
        "    X_test.append(inputs[i-60:i, 0])\n",
        "X_test = np.array(X_test)\n",
        "X_test = np.reshape(X_test, (X_test.shape[0], X_test.shape[1], 1))\n",
        "predicted_stock_price = regressor.predict(X_test)\n",
        "predicted_stock_price = sc.inverse_transform(predicted_stock_price)"
      ],
      "metadata": {
        "id": "K4a77-ud6s12"
      },
      "execution_count": 125,
      "outputs": []
    },
    {
      "cell_type": "code",
      "source": [
        "# Visualising the results\n",
        "plt.plot(real_stock_price, color = 'red', label = 'Real sin function')\n",
        "plt.plot(predicted_stock_price, color = 'blue', label = 'Predicted sin function')\n",
        "plt.title('Sin function prediction')\n",
        "plt.xlabel('x')\n",
        "plt.ylabel('y')\n",
        "plt.legend()\n",
        "plt.show()"
      ],
      "metadata": {
        "colab": {
          "base_uri": "https://localhost:8080/",
          "height": 295
        },
        "id": "WzMwOlp06wBM",
        "outputId": "e3b0a268-6a6e-4fa0-b539-2064eb78d0e1"
      },
      "execution_count": 127,
      "outputs": [
        {
          "output_type": "display_data",
          "data": {
            "text/plain": [
              "<Figure size 432x288 with 1 Axes>"
            ],
            "image/png": "[encoded data removed]"
          },
          "metadata": {
            "needs_background": "light"
          }
        }
      ]
    },
    {
      "cell_type": "code",
      "source": [
        "dataset_test"
      ],
      "metadata": {
        "colab": {
          "base_uri": "https://localhost:8080/",
          "height": 677
        },
        "id": "ZCYQn_Vm_MJR",
        "outputId": "d23f9dd0-0c33-4440-ade1-28cd6d9b22ad"
      },
      "execution_count": 130,
      "outputs": [
        {
          "output_type": "execute_result",
          "data": {
            "text/plain": [
              "         Date      Open    High     Low   Close     Volume  Unnamed: 6  \\\n",
              "0    1/3/2017  0.003629  789.63  775.80  786.14  1,657,300       12.57   \n",
              "1    1/4/2017  0.103444  791.34  783.16  786.90  1,073,000       12.67   \n",
              "2    1/5/2017  0.202225  794.48  785.02  794.02  1,335,200       12.77   \n",
              "3    1/6/2017  0.298986  807.90  792.20  806.15  1,640,200       12.87   \n",
              "4    1/9/2017  0.392759  809.97  802.83  806.65  1,272,400       12.97   \n",
              "5   1/10/2017  0.482607  809.13  803.51  804.79  1,176,800       13.07   \n",
              "6   1/11/2017  0.567634  808.15  801.37  807.91  1,065,900       13.17   \n",
              "7   1/12/2017  0.646989  807.39  799.17  806.36  1,353,100       13.27   \n",
              "8   1/13/2017  0.719880  811.22  806.69  807.88  1,099,200       13.37   \n",
              "9   1/17/2017  0.785578  807.14  800.37  804.61  1,362,100       13.47   \n",
              "10  1/18/2017  0.843426  806.21  800.99  806.07  1,294,400       13.57   \n",
              "11  1/19/2017  0.892848  809.48  801.80  802.17    919,300       13.67   \n",
              "12  1/20/2017  0.933348  806.91  801.69  805.02  1,670,000       13.77   \n",
              "13  1/23/2017  0.964523  820.87  803.74  819.31  1,963,600       13.87   \n",
              "14  1/24/2017  0.986060  825.90  817.82  823.87  1,474,000       13.97   \n",
              "15  1/25/2017  0.997745  835.77  825.06  835.67  1,494,500       14.07   \n",
              "16  1/26/2017  0.999461  838.00  827.01  832.15  2,973,900       14.17   \n",
              "17  1/27/2017  0.991191  841.95  820.44  823.31  2,965,800       14.27   \n",
              "18  1/30/2017  0.973017  815.84  799.80  802.32  3,246,600       14.37   \n",
              "19  1/31/2017  0.945121  801.25  790.52  796.79  2,160,600       14.47   \n",
              "\n",
              "    Unnamed: 7  \n",
              "0     0.003629  \n",
              "1     0.103444  \n",
              "2     0.202225  \n",
              "3     0.298986  \n",
              "4     0.392759  \n",
              "5     0.482607  \n",
              "6     0.567634  \n",
              "7     0.646989  \n",
              "8     0.719880  \n",
              "9     0.785578  \n",
              "10    0.843426  \n",
              "11    0.892848  \n",
              "12    0.933348  \n",
              "13    0.964523  \n",
              "14    0.986060  \n",
              "15    0.997745  \n",
              "16    0.999461  \n",
              "17    0.991191  \n",
              "18    0.973017  \n",
              "19    0.945121  "
            ],
            "text/html": [
              "\n",
              "  <div id=\"df-3618a037-4c0e-454d-8918-94b85a50642f\">\n",
              "    <div class=\"colab-df-container\">\n",
              "      <div>\n",
              "<style scoped>\n",
              "    .dataframe tbody tr th:only-of-type {\n",
              "        vertical-align: middle;\n",
              "    }\n",
              "\n",
              "    .dataframe tbody tr th {\n",
              "        vertical-align: top;\n",
              "    }\n",
              "\n",
              "    .dataframe thead th {\n",
              "        text-align: right;\n",
              "    }\n",
              "</style>\n",
              "<table border=\"1\" class=\"dataframe\">\n",
              "  <thead>\n",
              "    <tr style=\"text-align: right;\">\n",
              "      <th></th>\n",
              "      <th>Date</th>\n",
              "      <th>Open</th>\n",
              "      <th>High</th>\n",
              "      <th>Low</th>\n",
              "      <th>Close</th>\n",
              "      <th>Volume</th>\n",
              "      <th>Unnamed: 6</th>\n",
              "      <th>Unnamed: 7</th>\n",
              "    </tr>\n",
              "  </thead>\n",
              "  <tbody>\n",
              "    <tr>\n",
              "      <th>0</th>\n",
              "      <td>1/3/2017</td>\n",
              "      <td>0.003629</td>\n",
              "      <td>789.63</td>\n",
              "      <td>775.80</td>\n",
              "      <td>786.14</td>\n",
              "      <td>1,657,300</td>\n",
              "      <td>12.57</td>\n",
              "      <td>0.003629</td>\n",
              "    </tr>\n",
              "    <tr>\n",
              "      <th>1</th>\n",
              "      <td>1/4/2017</td>\n",
              "      <td>0.103444</td>\n",
              "      <td>791.34</td>\n",
              "      <td>783.16</td>\n",
              "      <td>786.90</td>\n",
              "      <td>1,073,000</td>\n",
              "      <td>12.67</td>\n",
              "      <td>0.103444</td>\n",
              "    </tr>\n",
              "    <tr>\n",
              "      <th>2</th>\n",
              "      <td>1/5/2017</td>\n",
              "      <td>0.202225</td>\n",
              "      <td>794.48</td>\n",
              "      <td>785.02</td>\n",
              "      <td>794.02</td>\n",
              "      <td>1,335,200</td>\n",
              "      <td>12.77</td>\n",
              "      <td>0.202225</td>\n",
              "    </tr>\n",
              "    <tr>\n",
              "      <th>3</th>\n",
              "      <td>1/6/2017</td>\n",
              "      <td>0.298986</td>\n",
              "      <td>807.90</td>\n",
              "      <td>792.20</td>\n",
              "      <td>806.15</td>\n",
              "      <td>1,640,200</td>\n",
              "      <td>12.87</td>\n",
              "      <td>0.298986</td>\n",
              "    </tr>\n",
              "    <tr>\n",
              "      <th>4</th>\n",
              "      <td>1/9/2017</td>\n",
              "      <td>0.392759</td>\n",
              "      <td>809.97</td>\n",
              "      <td>802.83</td>\n",
              "      <td>806.65</td>\n",
              "      <td>1,272,400</td>\n",
              "      <td>12.97</td>\n",
              "      <td>0.392759</td>\n",
              "    </tr>\n",
              "    <tr>\n",
              "      <th>5</th>\n",
              "      <td>1/10/2017</td>\n",
              "      <td>0.482607</td>\n",
              "      <td>809.13</td>\n",
              "      <td>803.51</td>\n",
              "      <td>804.79</td>\n",
              "      <td>1,176,800</td>\n",
              "      <td>13.07</td>\n",
              "      <td>0.482607</td>\n",
              "    </tr>\n",
              "    <tr>\n",
              "      <th>6</th>\n",
              "      <td>1/11/2017</td>\n",
              "      <td>0.567634</td>\n",
              "      <td>808.15</td>\n",
              "      <td>801.37</td>\n",
              "      <td>807.91</td>\n",
              "      <td>1,065,900</td>\n",
              "      <td>13.17</td>\n",
              "      <td>0.567634</td>\n",
              "    </tr>\n",
              "    <tr>\n",
              "      <th>7</th>\n",
              "      <td>1/12/2017</td>\n",
              "      <td>0.646989</td>\n",
              "      <td>807.39</td>\n",
              "      <td>799.17</td>\n",
              "      <td>806.36</td>\n",
              "      <td>1,353,100</td>\n",
              "      <td>13.27</td>\n",
              "      <td>0.646989</td>\n",
              "    </tr>\n",
              "    <tr>\n",
              "      <th>8</th>\n",
              "      <td>1/13/2017</td>\n",
              "      <td>0.719880</td>\n",
              "      <td>811.22</td>\n",
              "      <td>806.69</td>\n",
              "      <td>807.88</td>\n",
              "      <td>1,099,200</td>\n",
              "      <td>13.37</td>\n",
              "      <td>0.719880</td>\n",
              "    </tr>\n",
              "    <tr>\n",
              "      <th>9</th>\n",
              "      <td>1/17/2017</td>\n",
              "      <td>0.785578</td>\n",
              "      <td>807.14</td>\n",
              "      <td>800.37</td>\n",
              "      <td>804.61</td>\n",
              "      <td>1,362,100</td>\n",
              "      <td>13.47</td>\n",
              "      <td>0.785578</td>\n",
              "    </tr>\n",
              "    <tr>\n",
              "      <th>10</th>\n",
              "      <td>1/18/2017</td>\n",
              "      <td>0.843426</td>\n",
              "      <td>806.21</td>\n",
              "      <td>800.99</td>\n",
              "      <td>806.07</td>\n",
              "      <td>1,294,400</td>\n",
              "      <td>13.57</td>\n",
              "      <td>0.843426</td>\n",
              "    </tr>\n",
              "    <tr>\n",
              "      <th>11</th>\n",
              "      <td>1/19/2017</td>\n",
              "      <td>0.892848</td>\n",
              "      <td>809.48</td>\n",
              "      <td>801.80</td>\n",
              "      <td>802.17</td>\n",
              "      <td>919,300</td>\n",
              "      <td>13.67</td>\n",
              "      <td>0.892848</td>\n",
              "    </tr>\n",
              "    <tr>\n",
              "      <th>12</th>\n",
              "      <td>1/20/2017</td>\n",
              "      <td>0.933348</td>\n",
              "      <td>806.91</td>\n",
              "      <td>801.69</td>\n",
              "      <td>805.02</td>\n",
              "      <td>1,670,000</td>\n",
              "      <td>13.77</td>\n",
              "      <td>0.933348</td>\n",
              "    </tr>\n",
              "    <tr>\n",
              "      <th>13</th>\n",
              "      <td>1/23/2017</td>\n",
              "      <td>0.964523</td>\n",
              "      <td>820.87</td>\n",
              "      <td>803.74</td>\n",
              "      <td>819.31</td>\n",
              "      <td>1,963,600</td>\n",
              "      <td>13.87</td>\n",
              "      <td>0.964523</td>\n",
              "    </tr>\n",
              "    <tr>\n",
              "      <th>14</th>\n",
              "      <td>1/24/2017</td>\n",
              "      <td>0.986060</td>\n",
              "      <td>825.90</td>\n",
              "      <td>817.82</td>\n",
              "      <td>823.87</td>\n",
              "      <td>1,474,000</td>\n",
              "      <td>13.97</td>\n",
              "      <td>0.986060</td>\n",
              "    </tr>\n",
              "    <tr>\n",
              "      <th>15</th>\n",
              "      <td>1/25/2017</td>\n",
              "      <td>0.997745</td>\n",
              "      <td>835.77</td>\n",
              "      <td>825.06</td>\n",
              "      <td>835.67</td>\n",
              "      <td>1,494,500</td>\n",
              "      <td>14.07</td>\n",
              "      <td>0.997745</td>\n",
              "    </tr>\n",
              "    <tr>\n",
              "      <th>16</th>\n",
              "      <td>1/26/2017</td>\n",
              "      <td>0.999461</td>\n",
              "      <td>838.00</td>\n",
              "      <td>827.01</td>\n",
              "      <td>832.15</td>\n",
              "      <td>2,973,900</td>\n",
              "      <td>14.17</td>\n",
              "      <td>0.999461</td>\n",
              "    </tr>\n",
              "    <tr>\n",
              "      <th>17</th>\n",
              "      <td>1/27/2017</td>\n",
              "      <td>0.991191</td>\n",
              "      <td>841.95</td>\n",
              "      <td>820.44</td>\n",
              "      <td>823.31</td>\n",
              "      <td>2,965,800</td>\n",
              "      <td>14.27</td>\n",
              "      <td>0.991191</td>\n",
              "    </tr>\n",
              "    <tr>\n",
              "      <th>18</th>\n",
              "      <td>1/30/2017</td>\n",
              "      <td>0.973017</td>\n",
              "      <td>815.84</td>\n",
              "      <td>799.80</td>\n",
              "      <td>802.32</td>\n",
              "      <td>3,246,600</td>\n",
              "      <td>14.37</td>\n",
              "      <td>0.973017</td>\n",
              "    </tr>\n",
              "    <tr>\n",
              "      <th>19</th>\n",
              "      <td>1/31/2017</td>\n",
              "      <td>0.945121</td>\n",
              "      <td>801.25</td>\n",
              "      <td>790.52</td>\n",
              "      <td>796.79</td>\n",
              "      <td>2,160,600</td>\n",
              "      <td>14.47</td>\n",
              "      <td>0.945121</td>\n",
              "    </tr>\n",
              "  </tbody>\n",
              "</table>\n",
              "</div>\n",
              "      <button class=\"colab-df-convert\" onclick=\"convertToInteractive('df-3618a037-4c0e-454d-8918-94b85a50642f')\"\n",
              "              title=\"Convert this dataframe to an interactive table.\"\n",
              "              style=\"display:none;\">\n",
              "        \n",
              "  <svg xmlns=\"http://www.w3.org/2000/svg\" height=\"24px\"viewBox=\"0 0 24 24\"\n",
              "       width=\"24px\">\n",
              "    <path d=\"M0 0h24v24H0V0z\" fill=\"none\"/>\n",
              "    <path d=\"M18.56 5.44l.94 2.06.94-2.06 2.06-.94-2.06-.94-.94-2.06-.94 2.06-2.06.94zm-11 1L8.5 8.5l.94-2.06 2.06-.94-2.06-.94L8.5 2.5l-.94 2.06-2.06.94zm10 10l.94 2.06.94-2.06 2.06-.94-2.06-.94-.94-2.06-.94 2.06-2.06.94z\"/><path d=\"M17.41 7.96l-1.37-1.37c-.4-.4-.92-.59-1.43-.59-.52 0-1.04.2-1.43.59L10.3 9.45l-7.72 7.72c-.78.78-.78 2.05 0 2.83L4 21.41c.39.39.9.59 1.41.59.51 0 1.02-.2 1.41-.59l7.78-7.78 2.81-2.81c.8-.78.8-2.07 0-2.86zM5.41 20L4 18.59l7.72-7.72 1.47 1.35L5.41 20z\"/>\n",
              "  </svg>\n",
              "      </button>\n",
              "      \n",
              "  <style>\n",
              "    .colab-df-container {\n",
              "      display:flex;\n",
              "      flex-wrap:wrap;\n",
              "      gap: 12px;\n",
              "    }\n",
              "\n",
              "    .colab-df-convert {\n",
              "      background-color: #E8F0FE;\n",
              "      border: none;\n",
              "      border-radius: 50%;\n",
              "      cursor: pointer;\n",
              "      display: none;\n",
              "      fill: #1967D2;\n",
              "      height: 32px;\n",
              "      padding: 0 0 0 0;\n",
              "      width: 32px;\n",
              "    }\n",
              "\n",
              "    .colab-df-convert:hover {\n",
              "      background-color: #E2EBFA;\n",
              "      box-shadow: 0px 1px 2px rgba(60, 64, 67, 0.3), 0px 1px 3px 1px rgba(60, 64, 67, 0.15);\n",
              "      fill: #174EA6;\n",
              "    }\n",
              "\n",
              "    [theme=dark] .colab-df-convert {\n",
              "      background-color: #3B4455;\n",
              "      fill: #D2E3FC;\n",
              "    }\n",
              "\n",
              "    [theme=dark] .colab-df-convert:hover {\n",
              "      background-color: #434B5C;\n",
              "      box-shadow: 0px 1px 3px 1px rgba(0, 0, 0, 0.15);\n",
              "      filter: drop-shadow(0px 1px 2px rgba(0, 0, 0, 0.3));\n",
              "      fill: #FFFFFF;\n",
              "    }\n",
              "  </style>\n",
              "\n",
              "      <script>\n",
              "        const buttonEl =\n",
              "          document.querySelector('#df-3618a037-4c0e-454d-8918-94b85a50642f button.colab-df-convert');\n",
              "        buttonEl.style.display =\n",
              "          google.colab.kernel.accessAllowed ? 'block' : 'none';\n",
              "\n",
              "        async function convertToInteractive(key) {\n",
              "          const element = document.querySelector('#df-3618a037-4c0e-454d-8918-94b85a50642f');\n",
              "          const dataTable =\n",
              "            await google.colab.kernel.invokeFunction('convertToInteractive',\n",
              "                                                     [key], {});\n",
              "          if (!dataTable) return;\n",
              "\n",
              "          const docLinkHtml = 'Like what you see? Visit the ' +\n",
              "            '<a target=\"_blank\" href=https://colab.research.google.com/notebooks/data_table.ipynb>data table notebook</a>'\n",
              "            + ' to learn more about interactive tables.';\n",
              "          element.innerHTML = '';\n",
              "          dataTable['output_type'] = 'display_data';\n",
              "          await google.colab.output.renderOutput(dataTable, element);\n",
              "          const docLink = document.createElement('div');\n",
              "          docLink.innerHTML = docLinkHtml;\n",
              "          element.appendChild(docLink);\n",
              "        }\n",
              "      </script>\n",
              "    </div>\n",
              "  </div>\n",
              "  "
            ]
          },
          "metadata": {},
          "execution_count": 130
        }
      ]
    },
    {
      "cell_type": "code",
      "source": [
        "dataset_test.plot(x='Open', y='High')\n"
      ],
      "metadata": {
        "colab": {
          "base_uri": "https://localhost:8080/",
          "height": 296
        },
        "id": "MMDLH6UU_GWq",
        "outputId": "861b09bf-8fe0-44e9-85dd-40953b7d2859"
      },
      "execution_count": 133,
      "outputs": [
        {
          "output_type": "execute_result",
          "data": {
            "text/plain": [
              "<matplotlib.axes._subplots.AxesSubplot at 0x7ff068fa0e90>"
            ]
          },
          "metadata": {},
          "execution_count": 133
        },
        {
          "output_type": "display_data",
          "data": {
            "text/plain": [
              "<Figure size 432x288 with 1 Axes>"
            ],
            "image/png": "[encoded data removed]"
          },
          "metadata": {
            "needs_background": "light"
          }
        }
      ]
    },
    {
      "cell_type": "code",
      "source": [
        "x=dataset_test['Open']\n",
        "y=dataset_test['High']\n",
        "y=y.to_numpy()"
      ],
      "metadata": {
        "id": "p0NIR2-V_2Lg"
      },
      "execution_count": 135,
      "outputs": []
    },
    {
      "cell_type": "markdown",
      "source": [
        "# **Moving average**"
      ],
      "metadata": {
        "id": "WRs3wsmJ-xev"
      }
    },
    {
      "cell_type": "code",
      "source": [
        "arr = x\n",
        "window_size = 3\n",
        "  \n",
        "i = 0\n",
        "moving_averages = []\n",
        "  \n",
        "# Loop through the array to consider\n",
        "# every window of size 3\n",
        "while i < len(arr) - window_size + 1:\n",
        "    \n",
        "    # Store elements from i to i+window_size\n",
        "    # in list to get the current window\n",
        "    window = arr[i : i + window_size]\n",
        "  \n",
        "    # Calculate the average of current window\n",
        "    window_average = round(sum(window) / window_size, 2)\n",
        "      \n",
        "    # Store the average of current\n",
        "    # window in moving average list\n",
        "    moving_averages.append(window_average)\n",
        "      \n",
        "    # Shift window to right by one position\n",
        "    i += 1\n",
        "  \n",
        "print(moving_averages)"
      ],
      "metadata": {
        "colab": {
          "base_uri": "https://localhost:8080/"
        },
        "id": "Fcr8dZ3X-xBk",
        "outputId": "5fcd43e1-977e-4566-af16-c383e1ee597f"
      },
      "execution_count": 136,
      "outputs": [
        {
          "output_type": "stream",
          "name": "stdout",
          "text": [
            "[0.1, 0.2, 0.3, 0.39, 0.48, 0.57, 0.64, 0.72, 0.78, 0.84, 0.89, 0.93, 0.96, 0.98, 0.99, 1.0, 0.99, 0.97]\n"
          ]
        }
      ]
    },
    {
      "cell_type": "code",
      "source": [
        "moving_averages = np.array(moving_averages)\n",
        "moving_averages.shape"
      ],
      "metadata": {
        "id": "O1BDE2Z4AcNM"
      },
      "execution_count": 140,
      "outputs": []
    },
    {
      "cell_type": "code",
      "source": [
        "y=y[0:18]"
      ],
      "metadata": {
        "id": "JxRbnA6fBKrZ"
      },
      "execution_count": 153,
      "outputs": []
    },
    {
      "cell_type": "markdown",
      "source": [
        "# **Sketching data versus moving average**\n",
        "\n",
        "\n",
        "\n"
      ],
      "metadata": {
        "id": "zLQE952CBaM5"
      }
    },
    {
      "cell_type": "code",
      "source": [
        "dataset_test.plot(x='Open', y='High',marker='^', linestyle = 'None')\n",
        "\n",
        "plt.plot(moving_averages, y, marker='o', linestyle = 'None')"
      ],
      "metadata": {
        "colab": {
          "base_uri": "https://localhost:8080/",
          "height": 296
        },
        "id": "0H6M2mRzANZR",
        "outputId": "116fc410-1a73-4dc2-ab6d-b78ea7a630f8"
      },
      "execution_count": 159,
      "outputs": [
        {
          "output_type": "execute_result",
          "data": {
            "text/plain": [
              "[<matplotlib.lines.Line2D at 0x7ff066b0d6d0>]"
            ]
          },
          "metadata": {},
          "execution_count": 159
        },
        {
          "output_type": "display_data",
          "data": {
            "text/plain": [
              "<Figure size 432x288 with 1 Axes>"
            ],
            "image/png": "[encoded data removed]"
          },
          "metadata": {
            "needs_background": "light"
          }
        }
      ]
    },
    {
      "cell_type": "markdown",
      "source": [
        "# **Getting moving average of Google stock prices contained in train dataset**"
      ],
      "metadata": {
        "id": "fTb4ZgmjCQaL"
      }
    },
    {
      "cell_type": "code",
      "source": [
        "# Importing the training set - only importing training set, test set later  on \n",
        "#rnn has no idea of the test set's data, then after training is done, test set will eb important\n",
        "dataset_train = pd.read_csv('Google_Stock_Price_Train.csv')"
      ],
      "metadata": {
        "id": "jzn6x6byB5DS"
      },
      "execution_count": 164,
      "outputs": []
    },
    {
      "cell_type": "code",
      "source": [
        "x=dataset_train['Open']\n",
        "y=dataset_train['High']\n",
        "y=y.to_numpy()"
      ],
      "metadata": {
        "id": "CJvJPRBoCbv7"
      },
      "execution_count": 163,
      "outputs": []
    },
    {
      "cell_type": "code",
      "source": [
        "arr = x\n",
        "window_size = 3\n",
        "  \n",
        "i = 0\n",
        "moving_averages = []\n",
        "  \n",
        "# Loop through the array to consider\n",
        "# every window of size 3\n",
        "while i < len(arr) - window_size + 1:\n",
        "    \n",
        "    # Store elements from i to i+window_size\n",
        "    # in list to get the current window\n",
        "    window = arr[i : i + window_size]\n",
        "  \n",
        "    # Calculate the average of current window\n",
        "    window_average = round(sum(window) / window_size, 2)\n",
        "      \n",
        "    # Store the average of current\n",
        "    # window in moving average list\n",
        "    moving_averages.append(window_average)\n",
        "      \n",
        "    # Shift window to right by one position\n",
        "    i += 1\n",
        "  \n",
        "print(moving_averages)"
      ],
      "metadata": {
        "colab": {
          "base_uri": "https://localhost:8080/"
        },
        "id": "hCWZirTbCm34",
        "outputId": "4bc8e186-119a-47dd-a125-5f6e1abae1f8"
      },
      "execution_count": 165,
      "outputs": [
        {
          "output_type": "stream",
          "name": "stdout",
          "text": [
            "[328.78, 329.81, 326.74, 321.36, 315.44, 312.91, 312.33, 313.73, 312.97, 315.42, 308.53, 301.79, 292.71, 290.55, 288.22, 285.64, 285.73, 287.56, 289.91, 291.04, 292.32, 293.99, 297.69, 300.67, 303.5, 303.62, 303.93, 303.85, 304.69, 303.41, 302.32, 300.82, 302.34, 302.67, 303.25, 302.36, 302.85, 304.72, 307.32, 309.32, 309.62, 307.26, 305.11, 303.39, 303.37, 301.87, 301.65, 302.82, 305.58, 307.6, 308.95, 311.32, 313.6, 316.15, 318.76, 320.48, 321.9, 322.8, 324.2, 324.99, 323.12, 321.78, 319.57, 318.16, 315.35, 314.53, 314.82, 317.12, 319.45, 317.63, 312.02, 305.46, 302.58, 301.87, 299.35, 298.11, 298.07, 301.06, 303.85, 305.34, 304.16, 301.87, 301.31, 301.66, 300.63, 299.95, 300.1, 303.08, 303.89, 302.88, 301.62, 302.88, 308.37, 311.65, 308.75, 305.36, 301.47, 302.9, 300.84, 299.87, 296.38, 294.34, 290.36, 287.38, 285.18, 285.95, 288.84, 288.9, 290.19, 287.23, 284.88, 281.08, 279.51, 279.66, 281.7, 284.93, 287.79, 286.87, 284.8, 281.96, 281.91, 281.67, 283.7, 286.04, 288.38, 290.67, 292.44, 293.26, 293.5, 290.81, 287.85, 284.86, 284.87, 286.75, 287.55, 289.18, 294.21, 298.11, 302.9, 302.83, 305.24, 305.89, 310.49, 312.7, 315.75, 314.0, 315.95, 316.34, 319.04, 318.88, 319.69, 319.16, 320.55, 323.0, 328.26, 331.6, 334.07, 334.93, 335.86, 334.74, 334.54, 334.95, 334.23, 332.69, 332.98, 336.51, 339.66, 340.85, 340.15, 340.48, 343.04, 347.98, 349.97, 348.22, 345.45, 347.38, 350.49, 352.93, 354.24, 356.95, 361.01, 363.25, 368.0, 370.93, 375.73, 375.92, 377.45, 378.32, 378.58, 379.19, 380.11, 380.98, 380.47, 375.68, 374.33, 373.03, 373.05, 370.93, 369.62, 371.88, 366.14, 355.69, 341.82, 338.7, 338.53, 339.28, 338.13, 338.04, 341.08, 341.85, 342.84, 339.56, 337.18, 332.06, 330.2, 329.0, 330.0, 327.72, 324.89, 324.07, 327.31, 331.13, 333.49, 332.99, 331.52, 331.2, 334.74, 339.91, 345.59, 346.79, 346.93, 344.5, 344.5, 343.38, 343.78, 344.48, 349.55, 351.07, 352.11, 352.22, 355.8, 358.75, 358.31, 357.28, 354.76, 353.63, 351.5, 350.16, 352.2, 356.06, 360.93, 363.59, 365.35, 365.84, 367.07, 368.14, 368.92, 365.02, 361.76, 358.56, 357.07, 354.12, 357.16, 362.29, 369.95, 372.57, 373.48, 373.97, 373.76, 375.66, 377.98, 379.74, 379.89, 380.22, 383.38, 386.59, 388.59, 388.59, 388.81, 389.75, 392.38, 396.63, 398.39, 398.93, 398.43, 397.94, 397.2, 397.0, 397.46, 399.2, 403.83, 411.0, 415.78, 416.7, 415.15, 414.59, 413.5, 412.72, 410.69, 406.89, 404.28, 404.0, 405.04, 405.62, 404.89, 405.26, 403.92, 402.52, 399.45, 399.09, 400.67, 402.2, 399.13, 393.37, 388.59, 388.07, 390.42, 393.16, 393.66, 392.62, 391.75, 391.65, 388.75, 391.05, 393.65, 400.12, 402.72, 403.81, 403.01, 403.46, 406.06, 408.86, 411.84, 416.0, 423.12, 426.45, 430.19, 432.24, 435.87, 436.98, 440.33, 446.99, 452.39, 453.97, 452.14, 450.9, 446.25, 440.82, 437.65, 437.44, 436.55, 434.0, 433.55, 433.2, 432.27, 430.83, 431.25, 434.51, 437.77, 440.27, 438.09, 437.45, 436.42, 439.68, 443.21, 445.67, 445.61, 440.72, 437.94, 435.51, 436.66, 436.27, 438.38, 440.28, 441.11, 441.7, 443.19, 448.36, 450.59, 452.88, 454.37, 457.83, 460.18, 460.34, 459.46, 452.74, 449.58, 448.21, 451.64, 450.29, 446.35, 442.64, 441.24, 442.24, 443.91, 446.9, 448.95, 450.56, 449.17, 447.53, 445.18, 443.83, 442.39, 440.36, 436.64, 432.39, 428.96, 429.61, 431.17, 433.66, 435.23, 435.13, 432.95, 428.37, 424.9, 424.26, 424.94, 426.81, 429.76, 434.42, 438.3, 441.04, 442.06, 444.33, 445.07, 446.34, 444.69, 443.33, 444.96, 446.78, 448.41, 445.17, 443.2, 440.24, 438.3, 435.4, 435.73, 437.04, 440.18, 439.31, 436.77, 433.01, 429.9, 429.3, 429.42, 431.14, 433.12, 436.41, 440.78, 457.53, 478.38, 496.98, 501.03, 504.42, 508.38, 510.73, 508.61, 510.04, 512.32, 514.43, 513.44, 512.02, 510.99, 509.52, 507.59, 504.92, 502.44, 502.11, 506.17, 510.68, 515.49, 515.12, 514.31, 512.85, 513.14, 514.33, 517.92, 522.67, 526.82, 529.3, 527.46, 525.67, 524.62, 527.75, 531.01, 534.16, 537.08, 538.5, 538.38, 534.49, 533.37, 532.78, 535.57, 538.14, 544.11, 549.79, 554.06, 556.08, 556.97, 556.68, 555.92, 555.04, 555.17, 556.75, 561.9, 566.95, 569.29, 566.04, 565.13, 567.44, 571.2, 574.34, 575.66, 578.57, 579.09, 577.44, 570.71, 562.47, 557.17, 560.31, 570.44, 580.42, 579.25, 574.61, 569.95, 574.87, 579.59, 584.41, 587.96, 589.44, 592.01, 594.07, 598.14, 599.39, 600.46, 600.47, 602.59, 605.28, 607.44, 608.17, 605.31, 604.75, 603.87, 606.45, 608.41, 608.52, 607.1, 602.06, 600.77, 595.49, 592.64, 590.44, 595.39, 598.82, 600.76, 596.17, 590.53, 583.18, 575.37, 568.31, 563.81, 560.73, 573.62, 574.61, 579.91, 560.21, 551.15, 546.15, 554.22, 550.88, 543.77, 534.41, 537.88, 541.39, 541.15, 536.38, 531.38, 529.38, 527.34, 521.82, 517.44, 519.13, 522.44, 528.04, 527.12, 526.49, 520.52, 515.08, 510.27, 512.83, 520.29, 527.69, 528.41, 525.25, 520.83, 522.18, 526.0, 533.13, 538.95, 546.63, 554.42, 559.77, 561.36, 560.08, 555.97, 549.55, 544.8, 547.15, 552.35, 557.04, 557.02, 557.07, 554.33, 551.43, 547.07, 544.61, 546.27, 550.47, 553.89, 557.53, 560.33, 568.92, 572.91, 577.36, 576.47, 578.52, 580.08, 581.89, 580.0, 576.09, 570.15, 568.24, 571.9, 578.49, 583.84, 582.82, 585.24, 586.48, 590.2, 590.28, 591.84, 591.74, 590.02, 587.46, 586.18, 583.7, 577.6, 571.78, 568.27, 565.4, 565.06, 562.9, 565.63, 564.47, 565.72, 567.78, 572.21, 575.14, 578.07, 580.74, 583.3, 582.83, 582.44, 581.59, 579.49, 574.45, 571.15, 569.35, 572.82, 575.7, 579.73, 581.93, 584.89, 584.06, 581.99, 579.36, 576.52, 573.99, 573.66, 578.33, 584.56, 589.15, 589.1, 585.77, 583.68, 580.1, 576.87, 573.34, 573.32, 571.85, 570.56, 571.49, 573.84, 571.36, 568.82, 563.28, 556.44, 545.7, 536.83, 528.19, 524.32, 517.15, 519.21, 520.08, 530.01, 536.38, 538.76, 539.98, 541.85, 545.82, 551.25, 553.08, 554.43, 553.58, 550.26, 548.0, 542.9, 543.89, 545.28, 548.05, 547.45, 545.19, 541.1, 537.22, 533.12, 534.49, 535.37, 537.94, 537.7, 538.69, 538.65, 536.2, 533.15, 530.58, 529.75, 528.32, 525.32, 526.01, 526.23, 526.68, 523.25, 517.85, 509.04, 505.78, 505.77, 512.11, 516.78, 523.1, 527.31, 529.04, 528.23, 529.06, 528.0, 526.4, 520.99, 513.68, 505.28, 501.87, 497.86, 498.14, 494.78, 498.32, 498.71, 504.14, 504.7, 511.84, 520.01, 530.41, 533.23, 528.98, 519.82, 515.13, 518.11, 523.76, 528.2, 525.57, 525.45, 525.04, 526.87, 529.41, 532.49, 537.16, 540.99, 542.37, 540.61, 539.38, 537.6, 534.92, 532.52, 534.9, 542.96, 551.15, 560.2, 566.06, 570.88, 572.35, 570.69, 567.11, 560.55, 556.11, 552.53, 551.14, 550.54, 550.21, 553.02, 556.32, 558.96, 560.01, 562.95, 562.01, 558.83, 552.55, 550.03, 548.57, 544.99, 539.08, 535.58, 534.76, 537.69, 539.09, 539.1, 537.51, 532.99, 530.16, 527.64, 526.61, 529.14, 531.05, 536.17, 545.67, 555.82, 560.86, 556.17, 550.99, 545.59, 541.61, 538.39, 535.99, 531.15, 530.63, 533.0, 535.54, 533.51, 531.98, 534.5, 534.99, 535.06, 534.83, 536.81, 538.86, 538.74, 537.02, 536.31, 536.06, 537.39, 535.7, 536.54, 536.87, 538.01, 535.81, 532.41, 530.08, 531.78, 533.13, 532.67, 529.33, 528.59, 529.59, 532.53, 535.93, 538.81, 539.74, 539.5, 538.71, 533.71, 529.43, 525.25, 523.94, 521.77, 521.24, 521.23, 522.43, 523.49, 527.43, 535.31, 546.59, 557.34, 591.42, 624.45, 654.48, 658.45, 659.12, 656.39, 643.09, 633.61, 627.54, 630.54, 630.06, 628.91, 628.38, 629.36, 635.92, 639.85, 641.57, 649.64, 657.25, 663.87, 659.14, 657.04, 657.9, 658.43, 657.99, 650.61, 622.75, 609.23, 599.42, 621.55, 627.52, 633.25, 620.91, 611.83, 608.32, 607.53, 609.83, 611.24, 615.6, 618.02, 619.52, 624.05, 629.29, 633.32, 636.68, 636.33, 632.73, 627.82, 621.9, 622.82, 618.92, 612.46, 603.63, 602.98, 606.28, 615.86, 626.01, 640.03, 643.15, 643.53, 641.15, 641.75, 646.15, 650.34, 657.33, 659.98, 663.11, 659.79, 654.96, 676.12, 691.92, 712.14, 705.42, 708.4, 711.19, 712.43, 715.22, 717.31, 723.44, 727.66, 730.39, 728.7, 729.02, 729.29, 730.88, 725.26, 724.69, 724.16, 731.87, 737.62, 747.57, 751.99, 752.53, 749.53, 748.47, 748.13, 754.94, 760.67, 762.67, 762.29, 759.59, 761.61, 756.64, 751.06, 745.27, 745.32, 748.26, 755.14, 752.98, 751.69, 748.1, 750.42, 751.56, 751.98, 756.39, 765.4, 770.93, 763.03, 752.98, 739.82, 735.59, 730.59, 726.12, 723.25, 723.05, 719.3, 709.51, 700.32, 694.73, 698.03, 704.8, 716.45, 720.34, 717.03, 716.58, 722.47, 734.74, 755.5, 768.39, 759.18, 732.3, 698.18, 681.35, 675.68, 678.06, 684.04, 686.08, 693.78, 700.36, 701.04, 704.16, 701.31, 699.27, 696.79, 699.17, 702.97, 704.17, 707.65, 713.77, 717.56, 713.52, 703.49, 697.99, 698.39, 708.86, 718.31, 724.58, 726.7, 729.91, 734.89, 738.27, 738.61, 738.77, 737.28, 737.05, 734.46, 740.49, 744.65, 745.98, 745.97, 742.22, 741.28, 739.71, 741.7, 744.12, 741.66, 743.39, 747.06, 752.38, 756.15, 761.32, 762.66, 760.96, 746.56, 732.59, 722.61, 716.27, 713.66, 702.08, 698.86, 695.07, 695.0, 695.02, 695.52, 702.69, 709.04, 717.39, 719.07, 717.47, 712.71, 712.35, 709.6, 707.34, 702.55, 703.5, 705.0, 711.38, 716.83, 722.55, 726.21, 730.09, 732.92, 732.1, 728.89, 724.67, 722.9, 722.22, 722.1, 719.62, 717.49, 717.33, 716.8, 714.19, 707.44, 701.94, 698.74, 698.3, 690.56, 681.21, 675.05, 677.66, 682.48, 686.89, 691.24, 692.75, 694.71, 695.85, 701.88, 708.89, 716.93, 721.44, 723.64, 723.34, 726.11, 729.98, 735.86, 739.85, 740.96, 740.52, 739.33, 741.45, 752.68, 760.28, 767.5, 765.65, 769.36, 771.06, 776.0, 778.96, 782.28, 783.28, 783.42, 783.42, 781.85, 780.46, 779.21, 777.44, 776.09, 774.58, 773.11, 771.02, 768.86, 768.25, 769.02, 768.36, 768.53, 769.76, 771.9, 775.49, 777.35, 776.23, 767.94, 763.24, 759.74, 762.33, 764.08, 768.35, 770.39, 771.36, 773.89, 779.75, 783.11, 781.61, 778.7, 778.26, 778.54, 777.34, 775.54, 776.53, 778.11, 779.32, 778.79, 781.34, 782.71, 783.88, 782.21, 780.89, 783.1, 788.63, 796.46, 798.85, 801.07, 805.53, 809.31, 808.01, 805.23, 801.61, 795.57, 785.52, 776.11, 765.37, 764.14, 769.52, 779.28, 784.84, 775.88, 767.77, 753.04, 752.59, 756.36, 764.5, 766.97, 768.87, 767.66, 768.21, 764.0, 765.26, 767.2, 766.35, 757.37, 753.25, 755.68, 761.15, 766.07, 771.16, 779.17, 786.31, 792.11, 796.21, 798.38, 795.99, 795.79, 794.27, 794.99, 793.03, 791.31, 791.76, 789.24, 786.59]\n"
          ]
        }
      ]
    },
    {
      "cell_type": "code",
      "source": [
        "moving_averages = np.array(moving_averages)\n",
        "moving_averages.shape"
      ],
      "metadata": {
        "colab": {
          "base_uri": "https://localhost:8080/"
        },
        "id": "8KqRU4BMCq8z",
        "outputId": "65c44586-bc3f-42c5-e6f5-adc4e1a8b987"
      },
      "execution_count": 166,
      "outputs": [
        {
          "output_type": "execute_result",
          "data": {
            "text/plain": [
              "(1256,)"
            ]
          },
          "metadata": {},
          "execution_count": 166
        }
      ]
    },
    {
      "cell_type": "code",
      "source": [
        "y=y[0:len(y)-2]"
      ],
      "metadata": {
        "id": "oOYWV2SRC2fN"
      },
      "execution_count": 168,
      "outputs": []
    },
    {
      "cell_type": "code",
      "source": [
        "dataset_train.plot(x='Open', y='High',marker='^', linestyle = 'None')\n",
        "\n",
        "plt.plot(moving_averages, y, marker='o', linestyle = 'None')"
      ],
      "metadata": {
        "colab": {
          "base_uri": "https://localhost:8080/",
          "height": 296
        },
        "id": "Q45IWSVBCvZA",
        "outputId": "308decb0-385b-409e-a20b-6fbdf40ae561"
      },
      "execution_count": 169,
      "outputs": [
        {
          "output_type": "execute_result",
          "data": {
            "text/plain": [
              "[<matplotlib.lines.Line2D at 0x7ff06919f790>]"
            ]
          },
          "metadata": {},
          "execution_count": 169
        },
        {
          "output_type": "display_data",
          "data": {
            "text/plain": [
              "<Figure size 432x288 with 1 Axes>"
            ],
            "image/png": "[encoded data removed]"
          },
          "metadata": {
            "needs_background": "light"
          }
        }
      ]
    },
    {
      "cell_type": "code",
      "source": [
        "date=dataset_train['Date']"
      ],
      "metadata": {
        "id": "BedEqPp_DI4l"
      },
      "execution_count": 174,
      "outputs": []
    },
    {
      "cell_type": "code",
      "source": [
        "from datetime import datetime\n",
        "date_format = \"%m/%d/%Y\"\n",
        "a = datetime.strptime('1/3/2012', date_format)\n",
        "\n",
        "kP=[]\n",
        "\n",
        "for i in range(len(date)):\n",
        "    b = datetime.strptime(date[i], date_format)\n",
        "    diff = b - a\n",
        "    kP.append(diff.days)\n",
        "    \n"
      ],
      "metadata": {
        "id": "-MIWLqZ7DCM0"
      },
      "execution_count": 180,
      "outputs": []
    },
    {
      "cell_type": "code",
      "source": [
        "y=dataset_train['Open']\n",
        "x=kP\n",
        "s=kP"
      ],
      "metadata": {
        "id": "IiwNMpPQEKkh"
      },
      "execution_count": 205,
      "outputs": []
    },
    {
      "cell_type": "code",
      "source": [
        "s=s[0:len(s)-2]"
      ],
      "metadata": {
        "id": "L2hv5AFREq33"
      },
      "execution_count": 190,
      "outputs": []
    },
    {
      "cell_type": "markdown",
      "source": [
        "# **Moving average versus actual data**"
      ],
      "metadata": {
        "id": "M2J99Mq2E2K-"
      }
    },
    {
      "cell_type": "code",
      "source": [
        "plt.plot(x, y, marker='o', linestyle = 'None')\n",
        "plt.plot(s, moving_averages, marker='o', linestyle = 'None')"
      ],
      "metadata": {
        "colab": {
          "base_uri": "https://localhost:8080/",
          "height": 282
        },
        "id": "L6ABXNeOEQ0s",
        "outputId": "ace898c2-bff1-4584-decf-85f747464642"
      },
      "execution_count": 191,
      "outputs": [
        {
          "output_type": "execute_result",
          "data": {
            "text/plain": [
              "[<matplotlib.lines.Line2D at 0x7ff066752310>]"
            ]
          },
          "metadata": {},
          "execution_count": 191
        },
        {
          "output_type": "display_data",
          "data": {
            "text/plain": [
              "<Figure size 432x288 with 1 Axes>"
            ],
            "image/png": "[encoded data removed]"
          },
          "metadata": {
            "needs_background": "light"
          }
        }
      ]
    },
    {
      "cell_type": "markdown",
      "source": [
        "# **Now tweaking window size from 3 to 10**\n",
        "\n",
        "\n",
        "\n"
      ],
      "metadata": {
        "id": "KZBVRHDWE-M4"
      }
    },
    {
      "cell_type": "code",
      "source": [
        "arr = y\n",
        "window_size = 10\n",
        "  \n",
        "i = 0\n",
        "moving_averages = []\n",
        "  \n",
        "# Loop through the array to consider\n",
        "# every window of size 3\n",
        "while i < len(arr) - window_size + 1:\n",
        "    \n",
        "    # Store elements from i to i+window_size\n",
        "    # in list to get the current window\n",
        "    window = arr[i : i + window_size]\n",
        "  \n",
        "    # Calculate the average of current window\n",
        "    window_average = round(sum(window) / window_size, 2)\n",
        "      \n",
        "    # Store the average of current\n",
        "    # window in moving average list\n",
        "    moving_averages.append(window_average)\n",
        "      \n",
        "    # Shift window to right by one position\n",
        "    i += 1\n",
        "  \n",
        "print(moving_averages)"
      ],
      "metadata": {
        "colab": {
          "base_uri": "https://localhost:8080/"
        },
        "id": "mq9nDWRRFDWZ",
        "outputId": "be9dbdc1-93a5-4ec8-9e74-47729dadb5e3"
      },
      "execution_count": 192,
      "outputs": [
        {
          "output_type": "stream",
          "name": "stdout",
          "text": [
            "[320.22, 318.91, 317.71, 314.15, 310.5, 307.51, 304.9, 302.34, 299.33, 296.93, 294.49, 292.41, 289.61, 289.62, 290.07, 291.11, 292.66, 294.65, 296.5, 298.12, 299.54, 300.93, 301.83, 302.54, 302.98, 303.22, 303.14, 302.91, 302.84, 302.82, 303.17, 303.63, 304.59, 305.36, 305.57, 305.42, 305.57, 305.6, 305.27, 305.21, 305.03, 304.75, 304.7, 304.83, 305.97, 307.24, 308.66, 310.59, 312.83, 314.74, 316.58, 318.42, 319.95, 320.83, 321.55, 321.74, 321.43, 320.53, 319.96, 319.31, 318.83, 318.53, 317.1, 315.5, 313.63, 312.0, 310.61, 308.83, 307.08, 305.58, 304.02, 302.4, 301.9, 301.66, 301.32, 301.51, 301.6, 301.7, 302.07, 302.21, 302.31, 302.08, 301.47, 301.55, 302.38, 303.59, 304.54, 304.82, 305.21, 304.95, 304.76, 304.3, 304.05, 303.19, 301.74, 298.65, 295.91, 294.67, 292.82, 292.12, 290.46, 289.63, 288.33, 287.01, 285.65, 285.08, 284.7, 284.61, 284.77, 284.39, 283.99, 283.15, 282.8, 283.1, 283.33, 284.06, 285.02, 285.34, 285.78, 286.41, 287.25, 288.39, 289.07, 289.04, 289.35, 289.42, 289.25, 289.1, 288.97, 289.78, 290.56, 291.79, 293.39, 295.77, 298.1, 301.07, 303.56, 306.56, 308.52, 310.08, 312.03, 313.36, 314.89, 316.36, 317.34, 317.91, 319.45, 321.1, 323.19, 324.89, 326.68, 328.24, 329.65, 331.13, 332.97, 333.75, 334.04, 334.39, 335.22, 335.72, 336.17, 336.51, 337.44, 338.72, 340.42, 342.16, 343.38, 344.16, 345.42, 346.62, 347.78, 349.65, 351.57, 353.17, 354.23, 356.97, 359.98, 363.31, 365.53, 368.07, 370.93, 372.84, 374.74, 376.66, 378.15, 378.49, 378.09, 377.74, 377.62, 376.77, 375.52, 374.93, 374.57, 371.33, 367.34, 362.98, 360.23, 356.6, 352.85, 349.76, 346.74, 344.29, 340.75, 339.75, 339.45, 339.36, 337.76, 336.95, 336.28, 335.32, 333.85, 331.42, 329.99, 329.19, 328.89, 328.88, 329.47, 329.29, 329.54, 330.89, 332.95, 335.75, 337.7, 338.83, 339.76, 341.01, 341.95, 343.44, 344.99, 346.39, 346.78, 346.95, 348.02, 349.44, 351.22, 352.17, 353.62, 354.52, 354.91, 354.2, 354.24, 354.94, 355.35, 355.78, 356.39, 357.46, 358.35, 360.08, 361.82, 363.58, 364.54, 364.69, 364.33, 363.38, 361.85, 361.87, 362.32, 362.71, 363.2, 363.68, 365.4, 366.8, 368.81, 371.67, 374.48, 375.63, 377.05, 378.51, 379.84, 381.58, 382.9, 384.36, 385.81, 387.22, 389.42, 391.36, 392.83, 393.94, 394.76, 395.42, 396.46, 397.36, 398.25, 399.89, 401.67, 403.47, 405.22, 406.69, 408.46, 410.11, 411.4, 412.43, 412.42, 411.54, 410.33, 409.2, 408.21, 407.25, 406.4, 405.34, 404.19, 403.02, 403.0, 403.11, 402.48, 401.23, 399.43, 397.59, 396.07, 395.39, 394.79, 394.34, 393.44, 392.11, 391.17, 390.33, 391.42, 392.69, 393.94, 395.11, 395.88, 396.75, 398.36, 400.18, 401.91, 405.29, 407.66, 410.75, 413.19, 415.91, 419.28, 423.04, 425.96, 429.56, 434.48, 438.12, 440.95, 443.19, 445.46, 445.77, 445.76, 446.0, 445.91, 444.63, 442.1, 440.25, 438.4, 436.14, 434.23, 433.9, 434.24, 434.27, 434.75, 434.71, 435.3, 435.61, 436.65, 438.58, 440.06, 440.96, 440.45, 440.11, 439.53, 440.02, 439.76, 440.12, 440.2, 439.13, 438.93, 439.47, 441.42, 442.73, 444.68, 446.73, 449.19, 451.22, 452.75, 454.7, 454.53, 454.67, 454.65, 454.84, 453.89, 452.25, 450.29, 448.21, 446.82, 445.62, 446.46, 446.63, 446.33, 445.72, 445.8, 445.98, 446.08, 446.14, 445.41, 443.89, 441.79, 439.42, 437.61, 436.39, 435.26, 434.62, 433.78, 432.43, 431.03, 430.26, 429.98, 429.82, 429.42, 429.56, 430.05, 430.34, 431.34, 432.78, 435.13, 437.39, 439.4, 441.05, 442.35, 443.96, 444.76, 445.38, 445.2, 445.1, 444.15, 443.17, 441.82, 441.46, 441.28, 440.39, 439.22, 437.79, 436.74, 435.23, 434.51, 434.07, 433.95, 433.73, 433.88, 434.13, 439.19, 446.37, 453.32, 460.53, 468.9, 477.01, 484.41, 491.55, 499.1, 505.87, 508.62, 509.62, 510.39, 511.61, 511.15, 510.15, 509.87, 509.3, 507.77, 508.02, 508.17, 508.39, 508.95, 509.17, 509.39, 510.61, 511.99, 514.03, 516.78, 518.19, 519.62, 520.37, 521.35, 522.71, 524.84, 526.71, 528.66, 530.59, 531.46, 532.12, 532.15, 533.24, 534.26, 535.43, 536.35, 538.19, 540.12, 541.45, 543.46, 545.7, 548.1, 550.23, 552.38, 553.98, 555.81, 557.71, 559.13, 560.38, 560.7, 561.58, 563.61, 565.28, 567.37, 569.75, 571.83, 572.52, 572.9, 572.26, 571.45, 570.51, 570.12, 571.23, 572.34, 571.2, 570.04, 569.6, 570.42, 572.7, 576.18, 579.66, 581.44, 582.65, 583.75, 587.11, 590.08, 592.91, 594.79, 596.99, 599.17, 600.63, 602.61, 603.16, 603.84, 604.32, 605.28, 606.22, 606.74, 606.63, 605.26, 604.74, 602.83, 601.46, 600.44, 600.28, 599.17, 598.15, 596.58, 594.2, 592.48, 588.96, 586.04, 583.84, 580.04, 579.51, 576.57, 573.79, 568.73, 564.75, 562.68, 562.38, 559.52, 556.67, 554.49, 548.8, 546.7, 542.86, 541.65, 540.77, 537.83, 533.59, 532.06, 529.93, 529.01, 527.42, 525.92, 524.8, 524.46, 522.66, 520.51, 519.33, 519.97, 521.36, 521.9, 521.76, 520.53, 520.01, 520.46, 522.17, 525.43, 529.07, 532.31, 535.67, 538.7, 542.2, 546.12, 549.24, 550.41, 551.75, 553.44, 554.43, 554.88, 554.22, 553.62, 552.77, 551.63, 550.95, 551.29, 552.07, 551.95, 551.75, 552.22, 552.94, 555.3, 557.79, 560.72, 564.12, 567.96, 570.86, 573.55, 575.79, 576.43, 576.5, 575.59, 576.13, 576.83, 577.8, 577.42, 578.38, 579.18, 580.48, 582.64, 585.68, 587.53, 588.07, 588.38, 588.23, 588.34, 586.08, 583.82, 581.76, 578.62, 575.78, 573.11, 571.3, 568.89, 566.97, 566.53, 567.27, 567.98, 569.47, 571.87, 573.45, 575.45, 576.91, 578.59, 579.58, 578.92, 578.27, 577.84, 577.34, 576.76, 576.77, 577.07, 577.49, 577.51, 577.82, 578.96, 579.12, 579.21, 579.21, 579.91, 580.66, 581.38, 581.18, 581.17, 581.89, 581.4, 581.28, 581.69, 581.3, 579.33, 577.49, 576.0, 574.75, 573.17, 571.54, 569.71, 567.04, 563.25, 558.76, 553.94, 549.38, 542.46, 537.55, 533.99, 530.81, 529.48, 528.69, 529.1, 530.99, 533.98, 537.18, 541.77, 544.54, 547.23, 547.85, 548.03, 548.47, 549.02, 549.06, 549.14, 547.88, 546.69, 545.14, 542.97, 541.55, 541.09, 540.71, 539.76, 538.82, 537.9, 537.12, 536.12, 535.52, 535.13, 535.11, 533.66, 532.12, 531.53, 530.22, 528.52, 526.9, 524.72, 521.28, 519.47, 517.52, 516.42, 516.9, 516.65, 516.75, 517.61, 518.14, 520.11, 523.3, 524.33, 524.68, 523.77, 520.88, 518.31, 514.93, 511.61, 508.28, 505.71, 502.82, 501.6, 500.83, 502.27, 506.02, 509.39, 512.88, 515.27, 516.9, 517.92, 521.09, 522.78, 524.98, 525.21, 524.41, 523.36, 523.3, 524.55, 527.16, 529.9, 531.41, 532.75, 533.62, 535.55, 536.39, 536.59, 537.25, 538.04, 539.73, 541.45, 543.8, 546.84, 550.53, 553.69, 556.77, 560.18, 562.1, 563.13, 563.06, 562.1, 560.23, 558.3, 556.74, 555.42, 554.78, 554.61, 556.14, 556.55, 556.5, 556.57, 556.4, 556.01, 554.16, 551.22, 549.0, 546.58, 543.64, 542.12, 540.66, 539.13, 537.01, 535.14, 533.93, 533.27, 533.21, 532.81, 532.81, 535.18, 537.83, 539.82, 542.14, 544.08, 545.2, 546.64, 546.86, 546.68, 545.13, 542.34, 539.84, 537.54, 535.55, 534.13, 534.21, 533.56, 533.13, 533.86, 535.26, 535.61, 535.58, 535.7, 536.45, 536.81, 536.57, 536.66, 537.25, 537.18, 537.02, 536.34, 535.28, 534.93, 534.98, 534.4, 533.52, 533.07, 532.01, 531.34, 531.42, 532.05, 533.26, 534.32, 534.37, 534.93, 534.63, 534.4, 533.93, 532.94, 531.17, 529.52, 527.66, 525.98, 524.72, 524.28, 526.46, 529.87, 533.91, 546.7, 560.67, 573.88, 587.86, 601.68, 613.75, 622.56, 631.17, 638.04, 644.52, 642.76, 639.37, 636.69, 634.04, 632.41, 631.73, 633.58, 637.22, 640.65, 643.58, 645.94, 649.09, 652.43, 654.66, 655.71, 655.66, 649.02, 643.59, 638.31, 636.32, 634.1, 631.18, 625.22, 620.12, 616.27, 612.3, 616.25, 616.88, 617.15, 615.19, 614.48, 614.39, 617.7, 620.92, 622.9, 626.34, 627.79, 627.88, 628.23, 629.23, 627.7, 624.75, 621.53, 618.59, 615.63, 615.39, 616.58, 619.3, 621.77, 622.79, 625.97, 630.55, 635.55, 640.17, 645.87, 648.78, 651.3, 651.79, 652.33, 661.08, 667.02, 673.45, 678.86, 684.44, 689.61, 694.59, 700.08, 706.86, 715.14, 715.54, 718.4, 720.1, 722.62, 724.67, 726.01, 726.47, 727.51, 728.07, 728.99, 730.5, 733.22, 735.98, 737.55, 739.3, 741.26, 744.41, 748.37, 752.21, 753.65, 755.77, 755.82, 756.54, 757.01, 756.28, 755.58, 756.16, 754.27, 753.91, 753.26, 751.09, 750.47, 749.9, 749.57, 750.74, 753.23, 755.59, 757.54, 755.6, 755.6, 753.98, 751.85, 749.65, 746.35, 743.23, 739.65, 732.52, 724.8, 720.83, 715.05, 712.27, 711.6, 710.81, 710.53, 709.73, 708.87, 711.48, 717.3, 725.42, 733.58, 735.64, 733.67, 728.1, 723.94, 721.26, 716.54, 712.41, 706.67, 698.03, 692.0, 689.23, 689.58, 692.94, 694.6, 695.92, 699.28, 700.28, 701.35, 703.44, 704.31, 706.3, 706.25, 704.96, 705.92, 706.73, 707.87, 710.52, 712.85, 713.58, 715.36, 718.05, 721.01, 725.9, 730.28, 732.67, 734.35, 735.13, 737.45, 739.74, 739.95, 740.77, 740.92, 740.75, 741.05, 742.25, 742.87, 743.21, 743.12, 743.6, 745.13, 746.17, 749.33, 751.55, 752.55, 750.78, 748.09, 746.83, 742.65, 738.07, 731.74, 725.46, 718.19, 711.44, 705.68, 702.88, 702.47, 701.61, 703.22, 704.1, 706.22, 707.37, 709.28, 710.6, 711.07, 711.39, 710.84, 709.86, 709.59, 710.17, 711.38, 713.64, 715.5, 718.38, 721.07, 723.4, 724.73, 726.44, 726.65, 726.31, 725.56, 724.03, 722.48, 720.72, 718.66, 716.05, 713.9, 711.41, 708.87, 704.44, 699.89, 696.14, 692.54, 689.59, 687.95, 687.68, 686.84, 686.74, 686.94, 690.23, 695.04, 699.51, 703.37, 707.39, 710.44, 713.83, 718.56, 722.79, 727.02, 730.29, 732.28, 733.74, 736.29, 740.99, 744.83, 748.71, 751.69, 754.88, 758.07, 762.2, 766.41, 770.96, 774.75, 775.63, 777.9, 779.06, 780.07, 780.85, 780.97, 780.1, 779.54, 778.22, 776.42, 775.17, 773.67, 772.57, 771.54, 770.47, 770.27, 770.29, 770.74, 771.54, 771.85, 770.46, 770.04, 769.06, 768.65, 768.7, 768.64, 768.2, 767.46, 767.6, 769.25, 772.01, 773.12, 774.94, 776.8, 777.45, 777.64, 778.34, 779.0, 778.9, 778.21, 777.71, 778.82, 779.42, 779.39, 779.92, 780.48, 781.66, 783.56, 785.99, 787.52, 790.24, 793.24, 795.5, 797.48, 800.15, 801.71, 801.22, 799.21, 795.61, 791.17, 788.13, 784.81, 782.17, 781.18, 776.0, 772.02, 768.42, 766.12, 766.09, 768.16, 766.97, 765.89, 764.67, 761.98, 762.33, 763.92, 766.23, 766.46, 764.22, 762.86, 763.07, 761.91, 762.38, 763.95, 766.46, 768.7, 771.43, 775.42, 781.0, 784.25, 787.45, 790.94, 792.93, 794.02, 794.58, 794.56, 793.15, 791.69]\n"
          ]
        }
      ]
    },
    {
      "cell_type": "code",
      "source": [
        "moving_averages = np.array(moving_averages)\n",
        "moving_averages.shape"
      ],
      "metadata": {
        "colab": {
          "base_uri": "https://localhost:8080/"
        },
        "id": "VTR1xtsbFMjH",
        "outputId": "a017af17-a6a3-45c9-a827-9068083c5d06"
      },
      "execution_count": 193,
      "outputs": [
        {
          "output_type": "execute_result",
          "data": {
            "text/plain": [
              "(1249,)"
            ]
          },
          "metadata": {},
          "execution_count": 193
        }
      ]
    },
    {
      "cell_type": "code",
      "source": [
        "s=s[0:len(s)-9]"
      ],
      "metadata": {
        "id": "IbBxBXeAFQva"
      },
      "execution_count": 200,
      "outputs": []
    },
    {
      "cell_type": "code",
      "source": [
        "plt.plot(x, y, marker='o', linestyle = 'None')\n",
        "plt.plot(s, moving_averages, marker='o', linestyle = 'None')"
      ],
      "metadata": {
        "colab": {
          "base_uri": "https://localhost:8080/",
          "height": 282
        },
        "id": "8oM3UduAFU3V",
        "outputId": "cb156bb2-d117-4893-ca0f-df36e68366a9"
      },
      "execution_count": 201,
      "outputs": [
        {
          "output_type": "execute_result",
          "data": {
            "text/plain": [
              "[<matplotlib.lines.Line2D at 0x7ff066634990>]"
            ]
          },
          "metadata": {},
          "execution_count": 201
        },
        {
          "output_type": "display_data",
          "data": {
            "text/plain": [
              "<Figure size 432x288 with 1 Axes>"
            ],
            "image/png": "[encoded data removed]"
          },
          "metadata": {
            "needs_background": "light"
          }
        }
      ]
    },
    {
      "cell_type": "markdown",
      "source": [
        "# **Now tweaking window size from 3 to 30**"
      ],
      "metadata": {
        "id": "e2eQ4kB4FoXq"
      }
    },
    {
      "cell_type": "code",
      "source": [
        "arr = y\n",
        "window_size = 30\n",
        "  \n",
        "i = 0\n",
        "moving_averages = []\n",
        "  \n",
        "# Loop through the array to consider\n",
        "# every window of size 3\n",
        "while i < len(arr) - window_size + 1:\n",
        "    \n",
        "    # Store elements from i to i+window_size\n",
        "    # in list to get the current window\n",
        "    window = arr[i : i + window_size]\n",
        "  \n",
        "    # Calculate the average of current window\n",
        "    window_average = round(sum(window) / window_size, 2)\n",
        "      \n",
        "    # Store the average of current\n",
        "    # window in moving average list\n",
        "    moving_averages.append(window_average)\n",
        "      \n",
        "    # Shift window to right by one position\n",
        "    i += 1\n",
        "  \n",
        "print(moving_averages)\n",
        "\n",
        "moving_averages = np.array(moving_averages)\n",
        "moving_averages.shape"
      ],
      "metadata": {
        "colab": {
          "base_uri": "https://localhost:8080/"
        },
        "id": "7A2Eo5wjFmQ1",
        "outputId": "7679bf49-7a49-4d81-94cd-e0504951b793"
      },
      "execution_count": 202,
      "outputs": [
        {
          "output_type": "stream",
          "name": "stdout",
          "text": [
            "[304.75, 304.08, 303.05, 302.1, 301.18, 300.61, 300.23, 299.97, 299.56, 299.29, 299.06, 298.99, 298.68, 299.17, 299.54, 299.92, 300.46, 301.05, 301.54, 302.05, 302.58, 303.11, 303.7, 304.24, 304.84, 305.3, 305.79, 306.37, 306.98, 307.59, 308.26, 308.93, 309.75, 310.34, 311.03, 311.47, 311.89, 312.24, 312.69, 313.08, 313.48, 313.9, 313.92, 313.72, 313.72, 313.66, 313.57, 313.32, 313.29, 313.21, 313.14, 313.11, 312.98, 312.66, 312.17, 311.75, 311.21, 310.36, 309.7, 309.03, 308.38, 307.67, 306.82, 306.23, 305.78, 305.7, 305.58, 305.12, 304.78, 304.25, 303.7, 302.92, 302.47, 302.13, 301.81, 301.25, 300.68, 300.39, 300.03, 299.76, 299.18, 298.67, 297.95, 297.25, 296.59, 295.77, 295.05, 294.7, 294.27, 293.82, 293.07, 292.36, 291.73, 291.1, 290.24, 289.26, 288.54, 288.2, 287.79, 287.64, 287.24, 287.06, 286.73, 286.38, 286.11, 286.19, 286.32, 286.35, 286.51, 286.86, 287.27, 287.78, 288.42, 289.3, 290.26, 291.52, 292.61, 293.67, 294.43, 295.42, 296.61, 297.85, 299.12, 300.39, 301.6, 302.8, 304.09, 305.59, 306.89, 308.25, 309.75, 311.13, 312.64, 314.42, 316.14, 317.58, 319.02, 320.68, 322.31, 323.56, 324.96, 326.04, 327.33, 328.74, 330.25, 331.27, 332.29, 333.22, 334.61, 335.74, 336.87, 338.13, 339.55, 341.01, 342.54, 344.29, 345.8, 347.29, 348.73, 350.14, 351.63, 353.0, 354.58, 356.18, 357.6, 359.21, 360.48, 361.74, 362.86, 363.82, 364.74, 365.81, 366.96, 367.05, 366.58, 366.15, 366.1, 365.88, 365.33, 364.87, 364.4, 364.02, 363.36, 362.58, 361.65, 360.27, 358.69, 357.1, 355.58, 353.95, 352.04, 350.21, 348.44, 346.76, 345.23, 343.74, 342.49, 340.95, 339.55, 338.66, 337.85, 337.15, 336.15, 335.92, 336.03, 336.42, 336.39, 336.56, 336.94, 337.53, 337.86, 338.04, 338.57, 339.16, 339.96, 340.68, 341.68, 342.41, 343.15, 343.83, 344.66, 345.88, 347.03, 348.02, 349.12, 350.21, 351.31, 352.68, 353.91, 354.72, 355.19, 355.52, 355.9, 356.2, 356.49, 357.17, 358.09, 359.1, 359.98, 360.49, 361.39, 362.14, 362.83, 363.61, 364.24, 364.99, 365.91, 367.1, 368.29, 369.62, 370.95, 371.95, 372.98, 374.09, 375.25, 376.29, 377.4, 378.39, 379.27, 380.23, 381.59, 382.84, 384.29, 386.26, 388.53, 390.15, 391.7, 393.05, 394.36, 395.7, 396.92, 398.05, 398.83, 399.55, 400.47, 401.34, 402.09, 402.63, 403.21, 403.62, 404.02, 404.27, 404.56, 404.85, 404.83, 404.63, 404.29, 403.84, 403.64, 403.61, 403.46, 403.26, 402.95, 402.25, 401.33, 400.25, 399.69, 399.18, 398.8, 398.61, 398.29, 398.04, 398.27, 398.47, 398.52, 398.95, 399.5, 400.35, 401.07, 402.13, 403.32, 404.71, 405.92, 407.28, 409.19, 411.25, 413.34, 415.54, 417.53, 418.93, 420.31, 421.93, 423.41, 424.79, 426.16, 427.89, 429.0, 430.03, 430.96, 431.86, 433.1, 434.44, 435.54, 436.3, 437.29, 438.0, 438.67, 439.3, 439.92, 440.21, 440.15, 440.12, 440.06, 439.79, 439.05, 438.66, 438.42, 437.95, 437.74, 438.11, 438.7, 439.03, 439.65, 440.49, 441.42, 442.32, 443.2, 444.14, 444.51, 445.03, 445.51, 445.89, 446.03, 446.33, 446.41, 446.52, 446.59, 446.48, 446.64, 446.92, 447.47, 447.76, 448.12, 448.32, 448.52, 448.52, 448.33, 448.07, 447.59, 446.91, 446.2, 445.65, 444.98, 444.28, 443.38, 442.26, 441.09, 439.92, 439.41, 438.62, 437.79, 437.22, 437.03, 436.98, 437.07, 437.12, 437.19, 437.18, 437.06, 436.76, 436.46, 436.64, 436.69, 436.78, 436.77, 436.77, 436.77, 436.94, 437.07, 437.44, 437.68, 437.97, 438.01, 437.84, 437.76, 437.7, 437.93, 438.21, 438.39, 438.75, 439.17, 439.5, 441.06, 443.18, 445.09, 446.96, 449.19, 451.42, 453.39, 455.58, 458.09, 460.13, 462.35, 464.59, 466.82, 469.13, 471.52, 473.75, 476.08, 478.19, 480.25, 482.68, 485.33, 488.12, 490.89, 493.77, 496.48, 499.26, 502.09, 504.96, 507.89, 510.69, 512.14, 512.79, 513.56, 514.5, 515.13, 515.83, 516.84, 517.97, 518.67, 519.44, 519.98, 520.67, 521.52, 522.44, 523.53, 525.17, 526.92, 528.69, 530.57, 532.0, 533.29, 534.61, 536.0, 537.37, 539.0, 540.87, 542.64, 544.14, 545.21, 546.47, 547.95, 549.58, 551.33, 553.06, 554.66, 556.14, 557.38, 558.03, 558.54, 559.26, 560.61, 562.24, 564.03, 564.98, 565.89, 566.61, 567.49, 568.44, 569.44, 570.58, 571.72, 573.05, 574.49, 576.02, 577.32, 578.34, 579.37, 580.65, 582.27, 583.6, 584.72, 585.68, 586.64, 587.54, 588.47, 589.58, 590.65, 592.11, 593.53, 595.01, 595.62, 595.75, 596.01, 597.24, 598.18, 599.09, 599.37, 599.27, 598.97, 598.11, 597.16, 596.15, 594.77, 594.71, 593.67, 592.72, 590.68, 588.53, 586.81, 585.36, 582.8, 580.65, 578.32, 576.2, 574.15, 571.6, 568.98, 566.58, 564.33, 561.64, 559.21, 556.81, 554.51, 551.91, 549.73, 547.15, 544.94, 542.73, 540.34, 538.43, 537.18, 535.99, 535.13, 532.66, 531.05, 529.22, 528.86, 528.54, 527.92, 527.33, 528.11, 528.99, 529.87, 530.46, 530.85, 531.35, 531.78, 532.2, 533.13, 534.28, 535.72, 537.08, 538.07, 538.91, 539.42, 540.07, 540.72, 542.0, 543.61, 545.08, 546.47, 547.61, 549.21, 550.92, 552.82, 554.77, 556.55, 558.23, 559.65, 560.66, 561.17, 561.22, 561.5, 562.23, 563.06, 564.29, 565.55, 567.1, 568.22, 569.34, 570.43, 571.71, 572.81, 574.0, 575.31, 576.72, 577.91, 578.44, 578.85, 579.34, 579.23, 579.32, 578.74, 578.5, 578.03, 577.67, 577.43, 577.25, 576.99, 577.23, 577.71, 578.31, 578.69, 578.76, 578.62, 578.26, 577.93, 577.21, 576.55, 576.19, 575.75, 575.33, 575.21, 575.24, 574.99, 574.79, 574.8, 574.89, 575.01, 575.34, 576.18, 576.96, 577.97, 578.53, 579.09, 579.76, 579.76, 579.56, 579.58, 579.28, 578.67, 578.31, 578.15, 577.81, 577.28, 577.08, 576.69, 575.81, 574.72, 573.09, 571.06, 569.18, 566.61, 564.49, 562.78, 561.41, 560.2, 559.0, 558.01, 557.02, 555.75, 554.68, 553.41, 552.28, 551.46, 550.07, 549.07, 548.07, 547.12, 546.27, 545.69, 544.81, 543.64, 542.41, 541.4, 540.07, 539.53, 539.29, 539.29, 539.62, 540.34, 540.73, 541.53, 541.73, 541.78, 541.5, 540.93, 540.43, 540.1, 539.37, 538.52, 537.3, 535.84, 533.98, 532.52, 531.39, 530.39, 529.91, 529.31, 528.59, 528.01, 527.39, 526.98, 526.7, 526.31, 525.77, 524.62, 523.3, 522.16, 520.63, 519.25, 517.77, 516.85, 515.8, 515.13, 514.34, 514.15, 514.6, 514.78, 514.85, 514.83, 514.44, 514.58, 515.74, 516.24, 516.83, 517.08, 517.1, 517.02, 517.04, 517.14, 517.45, 517.85, 518.44, 519.04, 519.81, 521.01, 522.27, 523.11, 524.48, 525.95, 527.93, 529.76, 532.1, 534.12, 536.38, 538.15, 539.19, 540.05, 540.88, 541.9, 543.32, 544.48, 545.15, 545.96, 546.96, 548.22, 549.31, 550.46, 551.83, 552.57, 553.1, 553.37, 553.48, 553.72, 553.81, 553.45, 553.51, 553.79, 553.96, 553.93, 553.41, 552.6, 551.21, 549.82, 548.28, 546.64, 545.66, 544.67, 544.2, 544.62, 545.0, 545.17, 545.18, 545.08, 544.43, 543.71, 543.02, 542.03, 540.53, 539.88, 539.44, 538.83, 538.23, 537.79, 537.78, 537.82, 537.73, 537.79, 537.73, 537.71, 537.75, 537.68, 538.04, 538.34, 538.66, 538.95, 539.08, 539.24, 539.14, 538.09, 536.9, 536.06, 535.66, 535.11, 534.77, 534.43, 534.13, 534.13, 534.57, 534.66, 534.71, 534.99, 535.26, 535.38, 534.91, 534.71, 534.4, 533.82, 533.2, 532.64, 532.07, 531.75, 531.35, 531.2, 531.54, 532.44, 533.28, 536.99, 541.09, 545.15, 549.6, 553.99, 557.61, 560.59, 564.09, 567.43, 570.79, 574.13, 577.07, 580.03, 583.19, 586.69, 590.07, 593.47, 598.28, 602.85, 607.34, 611.8, 616.38, 621.0, 625.52, 629.93, 633.72, 635.05, 637.32, 639.0, 641.47, 640.93, 639.88, 638.12, 636.27, 634.8, 633.23, 632.95, 632.56, 632.04, 631.7, 631.51, 631.55, 631.79, 631.9, 631.63, 631.43, 631.02, 629.45, 627.9, 626.91, 625.42, 623.44, 621.49, 619.88, 618.27, 618.01, 620.21, 621.35, 622.38, 622.4, 622.71, 623.23, 624.93, 626.56, 628.13, 630.17, 631.89, 632.99, 634.11, 637.7, 640.23, 642.92, 645.31, 647.74, 650.37, 652.92, 655.99, 659.32, 663.08, 666.47, 670.46, 674.7, 679.01, 683.1, 687.16, 689.95, 692.96, 695.57, 698.82, 702.37, 706.22, 709.85, 713.01, 716.14, 718.96, 721.82, 725.32, 729.05, 732.59, 733.94, 735.81, 737.54, 739.06, 740.08, 740.95, 742.35, 743.38, 744.73, 745.3, 745.79, 746.5, 747.47, 748.04, 748.77, 750.02, 752.06, 753.4, 753.91, 754.17, 753.62, 752.71, 752.03, 750.98, 750.08, 749.48, 748.09, 745.54, 743.45, 741.3, 739.11, 737.97, 736.78, 735.48, 734.57, 733.92, 733.2, 733.22, 733.95, 734.74, 733.96, 732.37, 729.52, 726.94, 724.74, 721.69, 718.81, 716.26, 714.76, 713.54, 712.38, 711.62, 710.62, 709.69, 708.97, 708.23, 708.06, 708.44, 708.96, 709.96, 710.39, 709.83, 708.67, 708.16, 707.97, 707.9, 707.74, 706.95, 705.02, 703.89, 704.53, 705.61, 707.93, 710.27, 711.77, 713.83, 715.31, 717.21, 718.92, 719.87, 721.71, 722.73, 723.87, 725.75, 727.22, 728.37, 729.62, 731.14, 732.31, 733.48, 735.0, 737.09, 739.4, 741.3, 741.9, 741.77, 741.73, 741.07, 740.47, 738.94, 737.47, 736.15, 734.58, 733.09, 731.97, 731.15, 730.55, 729.66, 728.59, 727.7, 726.34, 725.6, 724.53, 723.1, 721.69, 720.47, 719.43, 718.49, 717.45, 716.45, 715.49, 714.32, 713.47, 712.6, 712.56, 712.68, 712.63, 713.15, 713.53, 714.39, 715.02, 715.75, 716.57, 716.93, 716.95, 716.49, 715.9, 715.04, 713.64, 712.28, 711.27, 710.17, 709.56, 709.23, 709.04, 708.49, 708.2, 707.49, 706.99, 706.83, 706.56, 706.13, 705.9, 705.68, 705.85, 706.43, 706.98, 707.61, 708.32, 709.07, 709.8, 710.73, 712.66, 714.41, 716.74, 719.03, 721.47, 724.01, 727.57, 731.24, 734.74, 738.14, 741.34, 744.39, 747.2, 750.11, 752.84, 755.36, 757.53, 759.41, 760.97, 762.49, 763.93, 765.46, 766.78, 767.77, 768.73, 769.77, 770.86, 772.23, 773.57, 774.34, 773.75, 773.87, 773.56, 773.42, 773.34, 773.29, 772.86, 772.58, 772.45, 772.51, 772.55, 772.27, 772.19, 772.33, 772.21, 772.18, 772.27, 772.4, 772.68, 773.1, 773.39, 773.99, 774.47, 774.95, 775.36, 775.59, 776.07, 776.67, 777.5, 778.33, 779.99, 781.73, 783.28, 784.55, 785.84, 786.61, 787.07, 787.26, 786.83, 785.63, 785.36, 785.62, 785.69, 786.02, 785.36, 784.74, 783.77, 782.96, 782.56, 782.28, 781.78, 781.31, 780.78, 780.21, 779.49, 779.22, 778.62, 777.26, 775.31, 774.06, 772.72, 770.87, 769.74, 769.04, 768.26, 768.21, 768.69, 769.33, 770.44, 771.76, 772.5, 772.91, 773.33, 773.32, 774.46, 775.73, 776.94, 777.86]\n"
          ]
        },
        {
          "output_type": "execute_result",
          "data": {
            "text/plain": [
              "(1229,)"
            ]
          },
          "metadata": {},
          "execution_count": 202
        }
      ]
    },
    {
      "cell_type": "code",
      "source": [
        "s=s[0:len(s)-29]"
      ],
      "metadata": {
        "id": "RVPl4SWdFwR7"
      },
      "execution_count": 206,
      "outputs": []
    },
    {
      "cell_type": "code",
      "source": [
        "plt.plot(x, y, marker='o', linestyle = 'None')\n",
        "plt.plot(s, moving_averages, marker='o', linestyle = 'None')"
      ],
      "metadata": {
        "colab": {
          "base_uri": "https://localhost:8080/",
          "height": 282
        },
        "id": "6d_yP8lZFy4o",
        "outputId": "0ee10736-5d93-44f0-913e-4ad5f7bfd863"
      },
      "execution_count": 207,
      "outputs": [
        {
          "output_type": "execute_result",
          "data": {
            "text/plain": [
              "[<matplotlib.lines.Line2D at 0x7ff06651c890>]"
            ]
          },
          "metadata": {},
          "execution_count": 207
        },
        {
          "output_type": "display_data",
          "data": {
            "text/plain": [
              "<Figure size 432x288 with 1 Axes>"
            ],
            "image/png": "[encoded data removed]"
          },
          "metadata": {
            "needs_background": "light"
          }
        }
      ]
    }
  ]
}